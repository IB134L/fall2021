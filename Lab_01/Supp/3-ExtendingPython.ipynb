{
 "cells": [
  {
   "cell_type": "markdown",
   "metadata": {},
   "source": [
    "## Review"
   ]
  },
  {
   "cell_type": "code",
   "execution_count": 59,
   "metadata": {
    "code_folding": [
     0
    ]
   },
   "outputs": [],
   "source": [
    "#####SECRET CODE#####\n",
    "\"\"\"\n",
    "In this block I am activating a new function to print out dictionaries \n",
    "in a pretty fashion - it's not part of the lesson\n",
    "\"\"\"\n",
    "import json\n",
    "\n",
    "def dprint(d):\n",
    "    print(json.dumps(d,\n",
    "                     sort_keys=True,\n",
    "                     indent=4))\n"
   ]
  },
  {
   "cell_type": "code",
   "execution_count": 60,
   "metadata": {
    "code_folding": []
   },
   "outputs": [
    {
     "name": "stdout",
     "output_type": "stream",
     "text": [
      "[-3, 4, -5, 6, -7]\n"
     ]
    }
   ],
   "source": [
    "## Review\n",
    "\"\"\"\n",
    "what does the following code output?\n",
    "\"\"\"\n",
    "\n",
    "def magic(x,y=False):\n",
    "    if y:\n",
    "        return x\n",
    "    else:\n",
    "        return -x\n",
    "\n",
    "        \n",
    "magic_list = [magic(i, i%2==0) for i in range(10) if i>2 and i<8]\n",
    "print(magic_list)\n"
   ]
  },
  {
   "cell_type": "markdown",
   "metadata": {},
   "source": [
    "## Pandas - Python Data Analysis Library"
   ]
  },
  {
   "cell_type": "code",
   "execution_count": 61,
   "metadata": {
    "code_folding": []
   },
   "outputs": [
    {
     "name": "stdout",
     "output_type": "stream",
     "text": [
      "[\n",
      "    {\n",
      "        \"measurement_number\": 1.0,\n",
      "        \"sample_site\": 1.0,\n",
      "        \"temperature\": 20.9\n",
      "    },\n",
      "    {\n",
      "        \"measurement_number\": 2.0,\n",
      "        \"sample_site\": 3.0,\n",
      "        \"temperature\": 23.1\n",
      "    },\n",
      "    {\n",
      "        \"measurement_number\": 3.0,\n",
      "        \"sample_site\": 2.0,\n",
      "        \"temperature\": 32.2\n",
      "    }\n",
      "]\n"
     ]
    }
   ],
   "source": [
    "## Recall our example of File I/O\n",
    "\n",
    "# this is what our file looks like... \n",
    "\"\"\"\n",
    "measurement_number,temperature,sample_site\n",
    "1,20.9,1\n",
    "2,23.1,3\n",
    "3,32.2,2\n",
    "\"\"\"\n",
    "\n",
    "# Here we read a file\n",
    "file_info = []\n",
    "with open(\"inputs/example_file_1.txt\") as f:\n",
    "    header = f.readline()\n",
    "    columns = header.rstrip().split(\",\")\n",
    "    for line in f:\n",
    "        split_line = line.rstrip().split(\",\")\n",
    "        row_dict = {columns[i]: float(col) for i, col in enumerate(split_line)} \n",
    "        file_info.append(row_dict)\n",
    "\n",
    "dprint(file_info)\n",
    "\n"
   ]
  },
  {
   "cell_type": "code",
   "execution_count": 62,
   "metadata": {
    "code_folding": []
   },
   "outputs": [
    {
     "name": "stdout",
     "output_type": "stream",
     "text": [
      "the maximum temperature is 32.2\n",
      "the minimum temperature is 20.9\n",
      "the average temperature is 25.400000000000002\n"
     ]
    }
   ],
   "source": [
    "# now let's do something useful w/ this data\n",
    "\n",
    "temperatures = [list_item[\"temperature\"] for list_item in file_info]\n",
    "max_temp = max(temperatures)\n",
    "min_temp = min(temperatures)\n",
    "\n",
    "sum_temps = 0\n",
    "for temp in temperatures:\n",
    "    sum_temps+=temp\n",
    "mean_temp = sum_temps / len(temperatures)\n",
    "\n",
    "print(\"the maximum temperature is {temp}\".format(temp=max_temp))    \n",
    "print(\"the minimum temperature is {temp}\".format(temp=min_temp))    \n",
    "print(\"the average temperature is {temp}\".format(temp=mean_temp))    \n",
    "\n"
   ]
  },
  {
   "cell_type": "code",
   "execution_count": 63,
   "metadata": {
    "code_folding": []
   },
   "outputs": [],
   "source": [
    "## Pandas\n",
    "\n",
    "\"\"\"\n",
    "The tasks we performed here are extremely common\n",
    "\n",
    "ie: 1) reading in a delimited tabular data file\n",
    "    2) perform some operations on the columns of that data\n",
    "\n",
    "This is so common that an entire package called Pandas\n",
    "has been developed to make this easier and more useful\n",
    "\n",
    "Pandas is excedingly popular and it very powerful allowing\n",
    "the user to perform all kinds of cool operations on data \n",
    "like summaries, mutation, reshaping, joining, etc.\n",
    "\n",
    "more here:\n",
    "https://pandas.pydata.org/docs/\n",
    "\n",
    "\"\"\"\n",
    "\n",
    "#people often shorthand the pandas library to pd\n",
    "import pandas as pd\n"
   ]
  },
  {
   "cell_type": "markdown",
   "metadata": {},
   "source": [
    "## pandas dataframes\n",
    "![numpy](resources/01_table_dataframe.svg)\n"
   ]
  },
  {
   "cell_type": "code",
   "execution_count": 64,
   "metadata": {
    "code_folding": []
   },
   "outputs": [
    {
     "data": {
      "text/html": [
       "<div>\n",
       "<style scoped>\n",
       "    .dataframe tbody tr th:only-of-type {\n",
       "        vertical-align: middle;\n",
       "    }\n",
       "\n",
       "    .dataframe tbody tr th {\n",
       "        vertical-align: top;\n",
       "    }\n",
       "\n",
       "    .dataframe thead th {\n",
       "        text-align: right;\n",
       "    }\n",
       "</style>\n",
       "<table border=\"1\" class=\"dataframe\">\n",
       "  <thead>\n",
       "    <tr style=\"text-align: right;\">\n",
       "      <th></th>\n",
       "      <th>measurement_number</th>\n",
       "      <th>temperature</th>\n",
       "      <th>sample_site</th>\n",
       "    </tr>\n",
       "  </thead>\n",
       "  <tbody>\n",
       "    <tr>\n",
       "      <th>0</th>\n",
       "      <td>1</td>\n",
       "      <td>20.9</td>\n",
       "      <td>1</td>\n",
       "    </tr>\n",
       "    <tr>\n",
       "      <th>1</th>\n",
       "      <td>2</td>\n",
       "      <td>23.1</td>\n",
       "      <td>3</td>\n",
       "    </tr>\n",
       "    <tr>\n",
       "      <th>2</th>\n",
       "      <td>3</td>\n",
       "      <td>32.2</td>\n",
       "      <td>2</td>\n",
       "    </tr>\n",
       "  </tbody>\n",
       "</table>\n",
       "</div>"
      ],
      "text/plain": [
       "   measurement_number  temperature  sample_site\n",
       "0                   1         20.9            1\n",
       "1                   2         23.1            3\n",
       "2                   3         32.2            2"
      ]
     },
     "execution_count": 64,
     "metadata": {},
     "output_type": "execute_result"
    }
   ],
   "source": [
    "## reading in a csv file\n",
    "\n",
    "\"\"\"\n",
    "to read a csv file into a pandas dataframe we can use the\n",
    "read_csv function\n",
    "\"\"\"\n",
    "import pandas as pd\n",
    "df = pd.read_csv(\"inputs/example_file_1.txt\", sep=\",\")\n",
    "df"
   ]
  },
  {
   "cell_type": "markdown",
   "metadata": {},
   "source": [
    "## input file -> dataframe -> output file\n",
    "\n",
    "reading different kinds of files into pandas dataframes is straightforward\n",
    "\n",
    "![numpy](resources/02_io_readwrite.svg)\n",
    "\n"
   ]
  },
  {
   "cell_type": "code",
   "execution_count": 65,
   "metadata": {
    "code_folding": []
   },
   "outputs": [
    {
     "data": {
      "text/plain": [
       "0    20.9\n",
       "1    23.1\n",
       "2    32.2\n",
       "Name: temperature, dtype: float64"
      ]
     },
     "execution_count": 65,
     "metadata": {},
     "output_type": "execute_result"
    }
   ],
   "source": [
    "## accessing a single column\n",
    "\n",
    "df[\"temperature\"]"
   ]
  },
  {
   "cell_type": "code",
   "execution_count": 66,
   "metadata": {
    "code_folding": []
   },
   "outputs": [
    {
     "data": {
      "text/html": [
       "<div>\n",
       "<style scoped>\n",
       "    .dataframe tbody tr th:only-of-type {\n",
       "        vertical-align: middle;\n",
       "    }\n",
       "\n",
       "    .dataframe tbody tr th {\n",
       "        vertical-align: top;\n",
       "    }\n",
       "\n",
       "    .dataframe thead th {\n",
       "        text-align: right;\n",
       "    }\n",
       "</style>\n",
       "<table border=\"1\" class=\"dataframe\">\n",
       "  <thead>\n",
       "    <tr style=\"text-align: right;\">\n",
       "      <th></th>\n",
       "      <th>temperature</th>\n",
       "      <th>sample_site</th>\n",
       "    </tr>\n",
       "  </thead>\n",
       "  <tbody>\n",
       "    <tr>\n",
       "      <th>0</th>\n",
       "      <td>20.9</td>\n",
       "      <td>1</td>\n",
       "    </tr>\n",
       "    <tr>\n",
       "      <th>1</th>\n",
       "      <td>23.1</td>\n",
       "      <td>3</td>\n",
       "    </tr>\n",
       "    <tr>\n",
       "      <th>2</th>\n",
       "      <td>32.2</td>\n",
       "      <td>2</td>\n",
       "    </tr>\n",
       "  </tbody>\n",
       "</table>\n",
       "</div>"
      ],
      "text/plain": [
       "   temperature  sample_site\n",
       "0         20.9            1\n",
       "1         23.1            3\n",
       "2         32.2            2"
      ]
     },
     "execution_count": 66,
     "metadata": {},
     "output_type": "execute_result"
    }
   ],
   "source": [
    "## accessing a set of columns\n",
    "\n",
    "df[[\"temperature\",\"sample_site\"]]"
   ]
  },
  {
   "cell_type": "code",
   "execution_count": 67,
   "metadata": {
    "code_folding": []
   },
   "outputs": [
    {
     "name": "stdout",
     "output_type": "stream",
     "text": [
      "temperature    25.4\n",
      "dtype: float64\n",
      "temperature    32.2\n",
      "dtype: float64\n",
      "temperature    25.4\n",
      "sample_site     2.0\n",
      "dtype: float64\n"
     ]
    }
   ],
   "source": [
    "## summarizing the data from a column \n",
    "\n",
    "\"\"\"\n",
    "Basic statistics (mean, median, min, max, counts…) are easily calculable from\n",
    "a column or a set of columns\n",
    "\n",
    "you can find them here: https://pandas.pydata.org/pandas-docs/stable/reference/api/pandas.DataFrame.html\n",
    "\"\"\"\n",
    "\n",
    "print(df[[\"temperature\"]].mean())\n",
    "print(df[[\"temperature\"]].max())\n",
    "print(df[[\"temperature\",\"sample_site\"]].mean())"
   ]
  },
  {
   "cell_type": "code",
   "execution_count": 68,
   "metadata": {
    "code_folding": []
   },
   "outputs": [
    {
     "data": {
      "text/html": [
       "<div>\n",
       "<style scoped>\n",
       "    .dataframe tbody tr th:only-of-type {\n",
       "        vertical-align: middle;\n",
       "    }\n",
       "\n",
       "    .dataframe tbody tr th {\n",
       "        vertical-align: top;\n",
       "    }\n",
       "\n",
       "    .dataframe thead th {\n",
       "        text-align: right;\n",
       "    }\n",
       "</style>\n",
       "<table border=\"1\" class=\"dataframe\">\n",
       "  <thead>\n",
       "    <tr style=\"text-align: right;\">\n",
       "      <th></th>\n",
       "      <th>measurement_number</th>\n",
       "      <th>temperature</th>\n",
       "      <th>sample_site</th>\n",
       "    </tr>\n",
       "  </thead>\n",
       "  <tbody>\n",
       "    <tr>\n",
       "      <th>count</th>\n",
       "      <td>3.0</td>\n",
       "      <td>3.000000</td>\n",
       "      <td>3.0</td>\n",
       "    </tr>\n",
       "    <tr>\n",
       "      <th>mean</th>\n",
       "      <td>2.0</td>\n",
       "      <td>25.400000</td>\n",
       "      <td>2.0</td>\n",
       "    </tr>\n",
       "    <tr>\n",
       "      <th>std</th>\n",
       "      <td>1.0</td>\n",
       "      <td>5.990826</td>\n",
       "      <td>1.0</td>\n",
       "    </tr>\n",
       "    <tr>\n",
       "      <th>min</th>\n",
       "      <td>1.0</td>\n",
       "      <td>20.900000</td>\n",
       "      <td>1.0</td>\n",
       "    </tr>\n",
       "    <tr>\n",
       "      <th>25%</th>\n",
       "      <td>1.5</td>\n",
       "      <td>22.000000</td>\n",
       "      <td>1.5</td>\n",
       "    </tr>\n",
       "    <tr>\n",
       "      <th>50%</th>\n",
       "      <td>2.0</td>\n",
       "      <td>23.100000</td>\n",
       "      <td>2.0</td>\n",
       "    </tr>\n",
       "    <tr>\n",
       "      <th>75%</th>\n",
       "      <td>2.5</td>\n",
       "      <td>27.650000</td>\n",
       "      <td>2.5</td>\n",
       "    </tr>\n",
       "    <tr>\n",
       "      <th>max</th>\n",
       "      <td>3.0</td>\n",
       "      <td>32.200000</td>\n",
       "      <td>3.0</td>\n",
       "    </tr>\n",
       "  </tbody>\n",
       "</table>\n",
       "</div>"
      ],
      "text/plain": [
       "       measurement_number  temperature  sample_site\n",
       "count                 3.0     3.000000          3.0\n",
       "mean                  2.0    25.400000          2.0\n",
       "std                   1.0     5.990826          1.0\n",
       "min                   1.0    20.900000          1.0\n",
       "25%                   1.5    22.000000          1.5\n",
       "50%                   2.0    23.100000          2.0\n",
       "75%                   2.5    27.650000          2.5\n",
       "max                   3.0    32.200000          3.0"
      ]
     },
     "execution_count": 68,
     "metadata": {},
     "output_type": "execute_result"
    }
   ],
   "source": [
    "## describing tables\n",
    "\n",
    "\"\"\"\n",
    "pandas has built in functions to summarize the entire table\n",
    "\"\"\"\n",
    "df.describe()"
   ]
  },
  {
   "cell_type": "code",
   "execution_count": 69,
   "metadata": {},
   "outputs": [
    {
     "data": {
      "text/html": [
       "<div>\n",
       "<style scoped>\n",
       "    .dataframe tbody tr th:only-of-type {\n",
       "        vertical-align: middle;\n",
       "    }\n",
       "\n",
       "    .dataframe tbody tr th {\n",
       "        vertical-align: top;\n",
       "    }\n",
       "\n",
       "    .dataframe thead th {\n",
       "        text-align: right;\n",
       "    }\n",
       "</style>\n",
       "<table border=\"1\" class=\"dataframe\">\n",
       "  <thead>\n",
       "    <tr style=\"text-align: right;\">\n",
       "      <th></th>\n",
       "      <th>measurement_number</th>\n",
       "      <th>temperature</th>\n",
       "      <th>sample_site</th>\n",
       "    </tr>\n",
       "  </thead>\n",
       "  <tbody>\n",
       "    <tr>\n",
       "      <th>0</th>\n",
       "      <td>1</td>\n",
       "      <td>20.9</td>\n",
       "      <td>1</td>\n",
       "    </tr>\n",
       "    <tr>\n",
       "      <th>1</th>\n",
       "      <td>2</td>\n",
       "      <td>23.1</td>\n",
       "      <td>3</td>\n",
       "    </tr>\n",
       "    <tr>\n",
       "      <th>2</th>\n",
       "      <td>3</td>\n",
       "      <td>32.2</td>\n",
       "      <td>2</td>\n",
       "    </tr>\n",
       "  </tbody>\n",
       "</table>\n",
       "</div>"
      ],
      "text/plain": [
       "   measurement_number  temperature  sample_site\n",
       "0                   1         20.9            1\n",
       "1                   2         23.1            3\n",
       "2                   3         32.2            2"
      ]
     },
     "execution_count": 69,
     "metadata": {},
     "output_type": "execute_result"
    }
   ],
   "source": [
    "df"
   ]
  },
  {
   "cell_type": "code",
   "execution_count": 70,
   "metadata": {
    "code_folding": []
   },
   "outputs": [
    {
     "data": {
      "text/plain": [
       "<matplotlib.axes._subplots.AxesSubplot at 0x7f9450751c10>"
      ]
     },
     "execution_count": 70,
     "metadata": {},
     "output_type": "execute_result"
    },
    {
     "data": {
      "image/png": "[encoded data removed]",
      "text/plain": [
       "<Figure size 432x288 with 1 Axes>"
      ]
     },
     "metadata": {
      "needs_background": "light"
     },
     "output_type": "display_data"
    },
    {
     "data": {
      "image/png": "[encoded data removed]",
      "text/plain": [
       "<Figure size 432x288 with 1 Axes>"
      ]
     },
     "metadata": {
      "needs_background": "light"
     },
     "output_type": "display_data"
    },
    {
     "data": {
      "image/png": "[encoded data removed]",
      "text/plain": [
       "<Figure size 432x288 with 1 Axes>"
      ]
     },
     "metadata": {
      "needs_background": "light"
     },
     "output_type": "display_data"
    }
   ],
   "source": [
    "## simple plotting \n",
    "\n",
    "\"\"\"\n",
    "https://pandas.pydata.org/docs/getting_started/intro_tutorials/04_plotting.html#min-tut-04-plotting\n",
    "\n",
    "** DANGER ** pandas plotting kinda sucks... it's more for exploration \n",
    "** R is far more developed for most plotting purposes **\n",
    "\n",
    "\"\"\"\n",
    "df.plot()\n",
    "df.plot.box()\n",
    "df.plot.scatter(x=\"measurement_number\",y=\"sample_site\")"
   ]
  },
  {
   "cell_type": "code",
   "execution_count": 71,
   "metadata": {
    "code_folding": []
   },
   "outputs": [
    {
     "data": {
      "text/html": [
       "<div>\n",
       "<style scoped>\n",
       "    .dataframe tbody tr th:only-of-type {\n",
       "        vertical-align: middle;\n",
       "    }\n",
       "\n",
       "    .dataframe tbody tr th {\n",
       "        vertical-align: top;\n",
       "    }\n",
       "\n",
       "    .dataframe thead th {\n",
       "        text-align: right;\n",
       "    }\n",
       "</style>\n",
       "<table border=\"1\" class=\"dataframe\">\n",
       "  <thead>\n",
       "    <tr style=\"text-align: right;\">\n",
       "      <th></th>\n",
       "      <th>city</th>\n",
       "      <th>date</th>\n",
       "      <th>avg_temp</th>\n",
       "      <th>high_temp</th>\n",
       "      <th>low_temp</th>\n",
       "    </tr>\n",
       "  </thead>\n",
       "  <tbody>\n",
       "    <tr>\n",
       "      <th>0</th>\n",
       "      <td>Auckland</td>\n",
       "      <td>2016-01-01</td>\n",
       "      <td>65</td>\n",
       "      <td>68</td>\n",
       "      <td>62</td>\n",
       "    </tr>\n",
       "    <tr>\n",
       "      <th>1</th>\n",
       "      <td>Auckland</td>\n",
       "      <td>2016-01-02</td>\n",
       "      <td>66</td>\n",
       "      <td>68</td>\n",
       "      <td>64</td>\n",
       "    </tr>\n",
       "    <tr>\n",
       "      <th>2</th>\n",
       "      <td>Auckland</td>\n",
       "      <td>2016-01-03</td>\n",
       "      <td>72</td>\n",
       "      <td>77</td>\n",
       "      <td>66</td>\n",
       "    </tr>\n",
       "    <tr>\n",
       "      <th>3</th>\n",
       "      <td>Auckland</td>\n",
       "      <td>2016-01-04</td>\n",
       "      <td>66</td>\n",
       "      <td>73</td>\n",
       "      <td>60</td>\n",
       "    </tr>\n",
       "    <tr>\n",
       "      <th>4</th>\n",
       "      <td>Auckland</td>\n",
       "      <td>2016-01-05</td>\n",
       "      <td>62</td>\n",
       "      <td>69</td>\n",
       "      <td>55</td>\n",
       "    </tr>\n",
       "    <tr>\n",
       "      <th>...</th>\n",
       "      <td>...</td>\n",
       "      <td>...</td>\n",
       "      <td>...</td>\n",
       "      <td>...</td>\n",
       "      <td>...</td>\n",
       "    </tr>\n",
       "    <tr>\n",
       "      <th>3650</th>\n",
       "      <td>San Diego</td>\n",
       "      <td>2017-12-27</td>\n",
       "      <td>60</td>\n",
       "      <td>69</td>\n",
       "      <td>50</td>\n",
       "    </tr>\n",
       "    <tr>\n",
       "      <th>3651</th>\n",
       "      <td>San Diego</td>\n",
       "      <td>2017-12-28</td>\n",
       "      <td>62</td>\n",
       "      <td>74</td>\n",
       "      <td>49</td>\n",
       "    </tr>\n",
       "    <tr>\n",
       "      <th>3652</th>\n",
       "      <td>San Diego</td>\n",
       "      <td>2017-12-29</td>\n",
       "      <td>63</td>\n",
       "      <td>77</td>\n",
       "      <td>49</td>\n",
       "    </tr>\n",
       "    <tr>\n",
       "      <th>3653</th>\n",
       "      <td>San Diego</td>\n",
       "      <td>2017-12-30</td>\n",
       "      <td>61</td>\n",
       "      <td>72</td>\n",
       "      <td>49</td>\n",
       "    </tr>\n",
       "    <tr>\n",
       "      <th>3654</th>\n",
       "      <td>San Diego</td>\n",
       "      <td>2017-12-31</td>\n",
       "      <td>57</td>\n",
       "      <td>64</td>\n",
       "      <td>50</td>\n",
       "    </tr>\n",
       "  </tbody>\n",
       "</table>\n",
       "<p>3655 rows × 5 columns</p>\n",
       "</div>"
      ],
      "text/plain": [
       "           city        date  avg_temp  high_temp  low_temp\n",
       "0      Auckland  2016-01-01        65         68        62\n",
       "1      Auckland  2016-01-02        66         68        64\n",
       "2      Auckland  2016-01-03        72         77        66\n",
       "3      Auckland  2016-01-04        66         73        60\n",
       "4      Auckland  2016-01-05        62         69        55\n",
       "...         ...         ...       ...        ...       ...\n",
       "3650  San Diego  2017-12-27        60         69        50\n",
       "3651  San Diego  2017-12-28        62         74        49\n",
       "3652  San Diego  2017-12-29        63         77        49\n",
       "3653  San Diego  2017-12-30        61         72        49\n",
       "3654  San Diego  2017-12-31        57         64        50\n",
       "\n",
       "[3655 rows x 5 columns]"
      ]
     },
     "execution_count": 71,
     "metadata": {},
     "output_type": "execute_result"
    }
   ],
   "source": [
    "## more complex data\n",
    "\n",
    "\"\"\"\n",
    "here is some simple data about temperatures collected over 2 years\n",
    "across of 5 cities\n",
    "\"\"\"\n",
    "\n",
    "weather_df = pd.read_csv(\"inputs/weather.csv\",sep=\"\\t\")\n",
    "weather_df"
   ]
  },
  {
   "cell_type": "code",
   "execution_count": 72,
   "metadata": {
    "code_folding": []
   },
   "outputs": [
    {
     "data": {
      "text/plain": [
       "(3655, 5)"
      ]
     },
     "execution_count": 72,
     "metadata": {},
     "output_type": "execute_result"
    }
   ],
   "source": [
    "## how big is this table?\n",
    "weather_df.shape"
   ]
  },
  {
   "cell_type": "code",
   "execution_count": 73,
   "metadata": {
    "code_folding": []
   },
   "outputs": [
    {
     "data": {
      "text/plain": [
       "array(['Auckland', 'Mumbai', 'Beijing', 'Chicago', 'San Diego'],\n",
       "      dtype=object)"
      ]
     },
     "execution_count": 73,
     "metadata": {},
     "output_type": "execute_result"
    }
   ],
   "source": [
    "## which cities are there?\n",
    "#weather_df[\"city\"].describe()\n",
    "weather_df[\"city\"].unique()"
   ]
  },
  {
   "cell_type": "code",
   "execution_count": 74,
   "metadata": {
    "code_folding": []
   },
   "outputs": [
    {
     "data": {
      "text/html": [
       "<div>\n",
       "<style scoped>\n",
       "    .dataframe tbody tr th:only-of-type {\n",
       "        vertical-align: middle;\n",
       "    }\n",
       "\n",
       "    .dataframe tbody tr th {\n",
       "        vertical-align: top;\n",
       "    }\n",
       "\n",
       "    .dataframe thead th {\n",
       "        text-align: right;\n",
       "    }\n",
       "</style>\n",
       "<table border=\"1\" class=\"dataframe\">\n",
       "  <thead>\n",
       "    <tr style=\"text-align: right;\">\n",
       "      <th></th>\n",
       "      <th>city</th>\n",
       "      <th>date</th>\n",
       "      <th>avg_temp</th>\n",
       "      <th>high_temp</th>\n",
       "      <th>low_temp</th>\n",
       "    </tr>\n",
       "  </thead>\n",
       "  <tbody>\n",
       "    <tr>\n",
       "      <th>0</th>\n",
       "      <td>Auckland</td>\n",
       "      <td>2016-01-01</td>\n",
       "      <td>65</td>\n",
       "      <td>68</td>\n",
       "      <td>62</td>\n",
       "    </tr>\n",
       "    <tr>\n",
       "      <th>1</th>\n",
       "      <td>Auckland</td>\n",
       "      <td>2016-01-02</td>\n",
       "      <td>66</td>\n",
       "      <td>68</td>\n",
       "      <td>64</td>\n",
       "    </tr>\n",
       "    <tr>\n",
       "      <th>2</th>\n",
       "      <td>Auckland</td>\n",
       "      <td>2016-01-03</td>\n",
       "      <td>72</td>\n",
       "      <td>77</td>\n",
       "      <td>66</td>\n",
       "    </tr>\n",
       "    <tr>\n",
       "      <th>3</th>\n",
       "      <td>Auckland</td>\n",
       "      <td>2016-01-04</td>\n",
       "      <td>66</td>\n",
       "      <td>73</td>\n",
       "      <td>60</td>\n",
       "    </tr>\n",
       "    <tr>\n",
       "      <th>4</th>\n",
       "      <td>Auckland</td>\n",
       "      <td>2016-01-05</td>\n",
       "      <td>62</td>\n",
       "      <td>69</td>\n",
       "      <td>55</td>\n",
       "    </tr>\n",
       "    <tr>\n",
       "      <th>...</th>\n",
       "      <td>...</td>\n",
       "      <td>...</td>\n",
       "      <td>...</td>\n",
       "      <td>...</td>\n",
       "      <td>...</td>\n",
       "    </tr>\n",
       "    <tr>\n",
       "      <th>726</th>\n",
       "      <td>Auckland</td>\n",
       "      <td>2017-12-27</td>\n",
       "      <td>68</td>\n",
       "      <td>73</td>\n",
       "      <td>62</td>\n",
       "    </tr>\n",
       "    <tr>\n",
       "      <th>727</th>\n",
       "      <td>Auckland</td>\n",
       "      <td>2017-12-28</td>\n",
       "      <td>62</td>\n",
       "      <td>68</td>\n",
       "      <td>55</td>\n",
       "    </tr>\n",
       "    <tr>\n",
       "      <th>728</th>\n",
       "      <td>Auckland</td>\n",
       "      <td>2017-12-29</td>\n",
       "      <td>65</td>\n",
       "      <td>73</td>\n",
       "      <td>57</td>\n",
       "    </tr>\n",
       "    <tr>\n",
       "      <th>729</th>\n",
       "      <td>Auckland</td>\n",
       "      <td>2017-12-30</td>\n",
       "      <td>66</td>\n",
       "      <td>75</td>\n",
       "      <td>57</td>\n",
       "    </tr>\n",
       "    <tr>\n",
       "      <th>730</th>\n",
       "      <td>Auckland</td>\n",
       "      <td>2017-12-31</td>\n",
       "      <td>66</td>\n",
       "      <td>75</td>\n",
       "      <td>57</td>\n",
       "    </tr>\n",
       "  </tbody>\n",
       "</table>\n",
       "<p>731 rows × 5 columns</p>\n",
       "</div>"
      ],
      "text/plain": [
       "         city        date  avg_temp  high_temp  low_temp\n",
       "0    Auckland  2016-01-01        65         68        62\n",
       "1    Auckland  2016-01-02        66         68        64\n",
       "2    Auckland  2016-01-03        72         77        66\n",
       "3    Auckland  2016-01-04        66         73        60\n",
       "4    Auckland  2016-01-05        62         69        55\n",
       "..        ...         ...       ...        ...       ...\n",
       "726  Auckland  2017-12-27        68         73        62\n",
       "727  Auckland  2017-12-28        62         68        55\n",
       "728  Auckland  2017-12-29        65         73        57\n",
       "729  Auckland  2017-12-30        66         75        57\n",
       "730  Auckland  2017-12-31        66         75        57\n",
       "\n",
       "[731 rows x 5 columns]"
      ]
     },
     "execution_count": 74,
     "metadata": {},
     "output_type": "execute_result"
    }
   ],
   "source": [
    "## subsetting based on logic\n",
    "\n",
    "weather_df[weather_df[\"city\"]==\"Auckland\"]"
   ]
  },
  {
   "cell_type": "code",
   "execution_count": 75,
   "metadata": {
    "code_folding": []
   },
   "outputs": [
    {
     "data": {
      "text/html": [
       "<div>\n",
       "<style scoped>\n",
       "    .dataframe tbody tr th:only-of-type {\n",
       "        vertical-align: middle;\n",
       "    }\n",
       "\n",
       "    .dataframe tbody tr th {\n",
       "        vertical-align: top;\n",
       "    }\n",
       "\n",
       "    .dataframe thead th {\n",
       "        text-align: right;\n",
       "    }\n",
       "</style>\n",
       "<table border=\"1\" class=\"dataframe\">\n",
       "  <thead>\n",
       "    <tr style=\"text-align: right;\">\n",
       "      <th></th>\n",
       "      <th>city</th>\n",
       "      <th>date</th>\n",
       "      <th>avg_temp</th>\n",
       "      <th>high_temp</th>\n",
       "      <th>low_temp</th>\n",
       "    </tr>\n",
       "  </thead>\n",
       "  <tbody>\n",
       "    <tr>\n",
       "      <th>1484</th>\n",
       "      <td>Beijing</td>\n",
       "      <td>2016-01-23</td>\n",
       "      <td>4</td>\n",
       "      <td>8</td>\n",
       "      <td>1</td>\n",
       "    </tr>\n",
       "    <tr>\n",
       "      <th>2209</th>\n",
       "      <td>Chicago</td>\n",
       "      <td>2016-01-17</td>\n",
       "      <td>4</td>\n",
       "      <td>8</td>\n",
       "      <td>-1</td>\n",
       "    </tr>\n",
       "    <tr>\n",
       "      <th>2210</th>\n",
       "      <td>Chicago</td>\n",
       "      <td>2016-01-18</td>\n",
       "      <td>2</td>\n",
       "      <td>7</td>\n",
       "      <td>-4</td>\n",
       "    </tr>\n",
       "    <tr>\n",
       "      <th>2211</th>\n",
       "      <td>Chicago</td>\n",
       "      <td>2016-01-19</td>\n",
       "      <td>9</td>\n",
       "      <td>17</td>\n",
       "      <td>0</td>\n",
       "    </tr>\n",
       "    <tr>\n",
       "      <th>2542</th>\n",
       "      <td>Chicago</td>\n",
       "      <td>2016-12-15</td>\n",
       "      <td>4</td>\n",
       "      <td>9</td>\n",
       "      <td>-2</td>\n",
       "    </tr>\n",
       "    <tr>\n",
       "      <th>2545</th>\n",
       "      <td>Chicago</td>\n",
       "      <td>2016-12-18</td>\n",
       "      <td>6</td>\n",
       "      <td>18</td>\n",
       "      <td>-7</td>\n",
       "    </tr>\n",
       "    <tr>\n",
       "      <th>2546</th>\n",
       "      <td>Chicago</td>\n",
       "      <td>2016-12-19</td>\n",
       "      <td>1</td>\n",
       "      <td>15</td>\n",
       "      <td>-13</td>\n",
       "    </tr>\n",
       "    <tr>\n",
       "      <th>2563</th>\n",
       "      <td>Chicago</td>\n",
       "      <td>2017-01-05</td>\n",
       "      <td>8</td>\n",
       "      <td>13</td>\n",
       "      <td>3</td>\n",
       "    </tr>\n",
       "    <tr>\n",
       "      <th>2564</th>\n",
       "      <td>Chicago</td>\n",
       "      <td>2017-01-06</td>\n",
       "      <td>5</td>\n",
       "      <td>9</td>\n",
       "      <td>0</td>\n",
       "    </tr>\n",
       "    <tr>\n",
       "      <th>2565</th>\n",
       "      <td>Chicago</td>\n",
       "      <td>2017-01-07</td>\n",
       "      <td>9</td>\n",
       "      <td>18</td>\n",
       "      <td>0</td>\n",
       "    </tr>\n",
       "    <tr>\n",
       "      <th>2918</th>\n",
       "      <td>Chicago</td>\n",
       "      <td>2017-12-26</td>\n",
       "      <td>1</td>\n",
       "      <td>5</td>\n",
       "      <td>-3</td>\n",
       "    </tr>\n",
       "    <tr>\n",
       "      <th>2919</th>\n",
       "      <td>Chicago</td>\n",
       "      <td>2017-12-27</td>\n",
       "      <td>2</td>\n",
       "      <td>7</td>\n",
       "      <td>-4</td>\n",
       "    </tr>\n",
       "    <tr>\n",
       "      <th>2920</th>\n",
       "      <td>Chicago</td>\n",
       "      <td>2017-12-28</td>\n",
       "      <td>8</td>\n",
       "      <td>15</td>\n",
       "      <td>0</td>\n",
       "    </tr>\n",
       "    <tr>\n",
       "      <th>2922</th>\n",
       "      <td>Chicago</td>\n",
       "      <td>2017-12-30</td>\n",
       "      <td>7</td>\n",
       "      <td>15</td>\n",
       "      <td>-1</td>\n",
       "    </tr>\n",
       "    <tr>\n",
       "      <th>2923</th>\n",
       "      <td>Chicago</td>\n",
       "      <td>2017-12-31</td>\n",
       "      <td>6</td>\n",
       "      <td>13</td>\n",
       "      <td>-1</td>\n",
       "    </tr>\n",
       "  </tbody>\n",
       "</table>\n",
       "</div>"
      ],
      "text/plain": [
       "         city        date  avg_temp  high_temp  low_temp\n",
       "1484  Beijing  2016-01-23         4          8         1\n",
       "2209  Chicago  2016-01-17         4          8        -1\n",
       "2210  Chicago  2016-01-18         2          7        -4\n",
       "2211  Chicago  2016-01-19         9         17         0\n",
       "2542  Chicago  2016-12-15         4          9        -2\n",
       "2545  Chicago  2016-12-18         6         18        -7\n",
       "2546  Chicago  2016-12-19         1         15       -13\n",
       "2563  Chicago  2017-01-05         8         13         3\n",
       "2564  Chicago  2017-01-06         5          9         0\n",
       "2565  Chicago  2017-01-07         9         18         0\n",
       "2918  Chicago  2017-12-26         1          5        -3\n",
       "2919  Chicago  2017-12-27         2          7        -4\n",
       "2920  Chicago  2017-12-28         8         15         0\n",
       "2922  Chicago  2017-12-30         7         15        -1\n",
       "2923  Chicago  2017-12-31         6         13        -1"
      ]
     },
     "execution_count": 75,
     "metadata": {},
     "output_type": "execute_result"
    }
   ],
   "source": [
    "## subsetting based on logic\n",
    "\n",
    "weather_df[weather_df[\"avg_temp\"]<10]"
   ]
  },
  {
   "cell_type": "code",
   "execution_count": 76,
   "metadata": {
    "code_folding": []
   },
   "outputs": [
    {
     "data": {
      "text/html": [
       "<div>\n",
       "<style scoped>\n",
       "    .dataframe tbody tr th:only-of-type {\n",
       "        vertical-align: middle;\n",
       "    }\n",
       "\n",
       "    .dataframe tbody tr th {\n",
       "        vertical-align: top;\n",
       "    }\n",
       "\n",
       "    .dataframe thead th {\n",
       "        text-align: right;\n",
       "    }\n",
       "</style>\n",
       "<table border=\"1\" class=\"dataframe\">\n",
       "  <thead>\n",
       "    <tr style=\"text-align: right;\">\n",
       "      <th></th>\n",
       "      <th>city</th>\n",
       "      <th>date</th>\n",
       "      <th>avg_temp</th>\n",
       "      <th>high_temp</th>\n",
       "      <th>low_temp</th>\n",
       "    </tr>\n",
       "  </thead>\n",
       "  <tbody>\n",
       "    <tr>\n",
       "      <th>1484</th>\n",
       "      <td>Beijing</td>\n",
       "      <td>2016-01-23</td>\n",
       "      <td>4</td>\n",
       "      <td>8</td>\n",
       "      <td>1</td>\n",
       "    </tr>\n",
       "    <tr>\n",
       "      <th>1485</th>\n",
       "      <td>Beijing</td>\n",
       "      <td>2016-01-24</td>\n",
       "      <td>15</td>\n",
       "      <td>25</td>\n",
       "      <td>5</td>\n",
       "    </tr>\n",
       "    <tr>\n",
       "      <th>1486</th>\n",
       "      <td>Beijing</td>\n",
       "      <td>2016-01-25</td>\n",
       "      <td>22</td>\n",
       "      <td>35</td>\n",
       "      <td>10</td>\n",
       "    </tr>\n",
       "    <tr>\n",
       "      <th>1487</th>\n",
       "      <td>Beijing</td>\n",
       "      <td>2016-01-26</td>\n",
       "      <td>28</td>\n",
       "      <td>35</td>\n",
       "      <td>21</td>\n",
       "    </tr>\n",
       "  </tbody>\n",
       "</table>\n",
       "</div>"
      ],
      "text/plain": [
       "         city        date  avg_temp  high_temp  low_temp\n",
       "1484  Beijing  2016-01-23         4          8         1\n",
       "1485  Beijing  2016-01-24        15         25         5\n",
       "1486  Beijing  2016-01-25        22         35        10\n",
       "1487  Beijing  2016-01-26        28         35        21"
      ]
     },
     "execution_count": 76,
     "metadata": {},
     "output_type": "execute_result"
    }
   ],
   "source": [
    "## subsetting based on specific location in the table\n",
    "\n",
    "\"\"\"\n",
    "we can use the iloc function to get a specific row, or a specific set of rows\n",
    "\"\"\"\n",
    "\n",
    "weather_df.iloc[1484:1488]"
   ]
  },
  {
   "cell_type": "markdown",
   "metadata": {},
   "source": [
    "## adding new columns to tables\n",
    "![numpy](resources/05_newcolumn_2.svg)"
   ]
  },
  {
   "cell_type": "code",
   "execution_count": 77,
   "metadata": {
    "code_folding": []
   },
   "outputs": [
    {
     "data": {
      "text/html": [
       "<div>\n",
       "<style scoped>\n",
       "    .dataframe tbody tr th:only-of-type {\n",
       "        vertical-align: middle;\n",
       "    }\n",
       "\n",
       "    .dataframe tbody tr th {\n",
       "        vertical-align: top;\n",
       "    }\n",
       "\n",
       "    .dataframe thead th {\n",
       "        text-align: right;\n",
       "    }\n",
       "</style>\n",
       "<table border=\"1\" class=\"dataframe\">\n",
       "  <thead>\n",
       "    <tr style=\"text-align: right;\">\n",
       "      <th></th>\n",
       "      <th>city</th>\n",
       "      <th>date</th>\n",
       "      <th>avg_temp</th>\n",
       "      <th>high_temp</th>\n",
       "      <th>low_temp</th>\n",
       "      <th>daily_delta</th>\n",
       "    </tr>\n",
       "  </thead>\n",
       "  <tbody>\n",
       "    <tr>\n",
       "      <th>0</th>\n",
       "      <td>Auckland</td>\n",
       "      <td>2016-01-01</td>\n",
       "      <td>65</td>\n",
       "      <td>68</td>\n",
       "      <td>62</td>\n",
       "      <td>6</td>\n",
       "    </tr>\n",
       "    <tr>\n",
       "      <th>1</th>\n",
       "      <td>Auckland</td>\n",
       "      <td>2016-01-02</td>\n",
       "      <td>66</td>\n",
       "      <td>68</td>\n",
       "      <td>64</td>\n",
       "      <td>4</td>\n",
       "    </tr>\n",
       "    <tr>\n",
       "      <th>2</th>\n",
       "      <td>Auckland</td>\n",
       "      <td>2016-01-03</td>\n",
       "      <td>72</td>\n",
       "      <td>77</td>\n",
       "      <td>66</td>\n",
       "      <td>11</td>\n",
       "    </tr>\n",
       "    <tr>\n",
       "      <th>3</th>\n",
       "      <td>Auckland</td>\n",
       "      <td>2016-01-04</td>\n",
       "      <td>66</td>\n",
       "      <td>73</td>\n",
       "      <td>60</td>\n",
       "      <td>13</td>\n",
       "    </tr>\n",
       "    <tr>\n",
       "      <th>4</th>\n",
       "      <td>Auckland</td>\n",
       "      <td>2016-01-05</td>\n",
       "      <td>62</td>\n",
       "      <td>69</td>\n",
       "      <td>55</td>\n",
       "      <td>14</td>\n",
       "    </tr>\n",
       "    <tr>\n",
       "      <th>...</th>\n",
       "      <td>...</td>\n",
       "      <td>...</td>\n",
       "      <td>...</td>\n",
       "      <td>...</td>\n",
       "      <td>...</td>\n",
       "      <td>...</td>\n",
       "    </tr>\n",
       "    <tr>\n",
       "      <th>3650</th>\n",
       "      <td>San Diego</td>\n",
       "      <td>2017-12-27</td>\n",
       "      <td>60</td>\n",
       "      <td>69</td>\n",
       "      <td>50</td>\n",
       "      <td>19</td>\n",
       "    </tr>\n",
       "    <tr>\n",
       "      <th>3651</th>\n",
       "      <td>San Diego</td>\n",
       "      <td>2017-12-28</td>\n",
       "      <td>62</td>\n",
       "      <td>74</td>\n",
       "      <td>49</td>\n",
       "      <td>25</td>\n",
       "    </tr>\n",
       "    <tr>\n",
       "      <th>3652</th>\n",
       "      <td>San Diego</td>\n",
       "      <td>2017-12-29</td>\n",
       "      <td>63</td>\n",
       "      <td>77</td>\n",
       "      <td>49</td>\n",
       "      <td>28</td>\n",
       "    </tr>\n",
       "    <tr>\n",
       "      <th>3653</th>\n",
       "      <td>San Diego</td>\n",
       "      <td>2017-12-30</td>\n",
       "      <td>61</td>\n",
       "      <td>72</td>\n",
       "      <td>49</td>\n",
       "      <td>23</td>\n",
       "    </tr>\n",
       "    <tr>\n",
       "      <th>3654</th>\n",
       "      <td>San Diego</td>\n",
       "      <td>2017-12-31</td>\n",
       "      <td>57</td>\n",
       "      <td>64</td>\n",
       "      <td>50</td>\n",
       "      <td>14</td>\n",
       "    </tr>\n",
       "  </tbody>\n",
       "</table>\n",
       "<p>3655 rows × 6 columns</p>\n",
       "</div>"
      ],
      "text/plain": [
       "           city        date  avg_temp  high_temp  low_temp  daily_delta\n",
       "0      Auckland  2016-01-01        65         68        62            6\n",
       "1      Auckland  2016-01-02        66         68        64            4\n",
       "2      Auckland  2016-01-03        72         77        66           11\n",
       "3      Auckland  2016-01-04        66         73        60           13\n",
       "4      Auckland  2016-01-05        62         69        55           14\n",
       "...         ...         ...       ...        ...       ...          ...\n",
       "3650  San Diego  2017-12-27        60         69        50           19\n",
       "3651  San Diego  2017-12-28        62         74        49           25\n",
       "3652  San Diego  2017-12-29        63         77        49           28\n",
       "3653  San Diego  2017-12-30        61         72        49           23\n",
       "3654  San Diego  2017-12-31        57         64        50           14\n",
       "\n",
       "[3655 rows x 6 columns]"
      ]
     },
     "execution_count": 77,
     "metadata": {},
     "output_type": "execute_result"
    }
   ],
   "source": [
    "## adding new columns\n",
    "weather_df[\"daily_delta\"] = weather_df[\"high_temp\"]-weather_df[\"low_temp\"]\n",
    "weather_df"
   ]
  },
  {
   "cell_type": "code",
   "execution_count": 78,
   "metadata": {
    "code_folding": []
   },
   "outputs": [
    {
     "data": {
      "text/html": [
       "<div>\n",
       "<style scoped>\n",
       "    .dataframe tbody tr th:only-of-type {\n",
       "        vertical-align: middle;\n",
       "    }\n",
       "\n",
       "    .dataframe tbody tr th {\n",
       "        vertical-align: top;\n",
       "    }\n",
       "\n",
       "    .dataframe thead th {\n",
       "        text-align: right;\n",
       "    }\n",
       "</style>\n",
       "<table border=\"1\" class=\"dataframe\">\n",
       "  <thead>\n",
       "    <tr style=\"text-align: right;\">\n",
       "      <th></th>\n",
       "      <th>date</th>\n",
       "      <th>avg_temp</th>\n",
       "      <th>high_temp</th>\n",
       "      <th>low_temp</th>\n",
       "      <th>daily_delta</th>\n",
       "    </tr>\n",
       "    <tr>\n",
       "      <th>city</th>\n",
       "      <th></th>\n",
       "      <th></th>\n",
       "      <th></th>\n",
       "      <th></th>\n",
       "      <th></th>\n",
       "    </tr>\n",
       "  </thead>\n",
       "  <tbody>\n",
       "    <tr>\n",
       "      <th>Auckland</th>\n",
       "      <td>731</td>\n",
       "      <td>731</td>\n",
       "      <td>731</td>\n",
       "      <td>731</td>\n",
       "      <td>731</td>\n",
       "    </tr>\n",
       "    <tr>\n",
       "      <th>Beijing</th>\n",
       "      <td>731</td>\n",
       "      <td>731</td>\n",
       "      <td>731</td>\n",
       "      <td>731</td>\n",
       "      <td>731</td>\n",
       "    </tr>\n",
       "    <tr>\n",
       "      <th>Chicago</th>\n",
       "      <td>731</td>\n",
       "      <td>731</td>\n",
       "      <td>731</td>\n",
       "      <td>731</td>\n",
       "      <td>731</td>\n",
       "    </tr>\n",
       "    <tr>\n",
       "      <th>Mumbai</th>\n",
       "      <td>731</td>\n",
       "      <td>731</td>\n",
       "      <td>731</td>\n",
       "      <td>731</td>\n",
       "      <td>731</td>\n",
       "    </tr>\n",
       "    <tr>\n",
       "      <th>San Diego</th>\n",
       "      <td>731</td>\n",
       "      <td>731</td>\n",
       "      <td>731</td>\n",
       "      <td>731</td>\n",
       "      <td>731</td>\n",
       "    </tr>\n",
       "  </tbody>\n",
       "</table>\n",
       "</div>"
      ],
      "text/plain": [
       "           date  avg_temp  high_temp  low_temp  daily_delta\n",
       "city                                                       \n",
       "Auckland    731       731        731       731          731\n",
       "Beijing     731       731        731       731          731\n",
       "Chicago     731       731        731       731          731\n",
       "Mumbai      731       731        731       731          731\n",
       "San Diego   731       731        731       731          731"
      ]
     },
     "execution_count": 78,
     "metadata": {},
     "output_type": "execute_result"
    }
   ],
   "source": [
    "## groupby\n",
    "\n",
    "\"\"\"\n",
    "the groupby function allows us to first group by a variable, \n",
    "and then apploy a function for each group independently\n",
    "\n",
    "\"\"\"\n",
    "weather_df.groupby(\"city\").count()\n"
   ]
  },
  {
   "cell_type": "code",
   "execution_count": 80,
   "metadata": {
    "code_folding": []
   },
   "outputs": [
    {
     "data": {
      "text/html": [
       "<div>\n",
       "<style scoped>\n",
       "    .dataframe tbody tr th:only-of-type {\n",
       "        vertical-align: middle;\n",
       "    }\n",
       "\n",
       "    .dataframe tbody tr th {\n",
       "        vertical-align: top;\n",
       "    }\n",
       "\n",
       "    .dataframe thead tr th {\n",
       "        text-align: left;\n",
       "    }\n",
       "\n",
       "    .dataframe thead tr:last-of-type th {\n",
       "        text-align: right;\n",
       "    }\n",
       "</style>\n",
       "<table border=\"1\" class=\"dataframe\">\n",
       "  <thead>\n",
       "    <tr>\n",
       "      <th></th>\n",
       "      <th colspan=\"8\" halign=\"left\">avg_temp</th>\n",
       "      <th colspan=\"2\" halign=\"left\">high_temp</th>\n",
       "      <th>...</th>\n",
       "      <th colspan=\"2\" halign=\"left\">low_temp</th>\n",
       "      <th colspan=\"8\" halign=\"left\">daily_delta</th>\n",
       "    </tr>\n",
       "    <tr>\n",
       "      <th></th>\n",
       "      <th>count</th>\n",
       "      <th>mean</th>\n",
       "      <th>std</th>\n",
       "      <th>min</th>\n",
       "      <th>25%</th>\n",
       "      <th>50%</th>\n",
       "      <th>75%</th>\n",
       "      <th>max</th>\n",
       "      <th>count</th>\n",
       "      <th>mean</th>\n",
       "      <th>...</th>\n",
       "      <th>75%</th>\n",
       "      <th>max</th>\n",
       "      <th>count</th>\n",
       "      <th>mean</th>\n",
       "      <th>std</th>\n",
       "      <th>min</th>\n",
       "      <th>25%</th>\n",
       "      <th>50%</th>\n",
       "      <th>75%</th>\n",
       "      <th>max</th>\n",
       "    </tr>\n",
       "    <tr>\n",
       "      <th>city</th>\n",
       "      <th></th>\n",
       "      <th></th>\n",
       "      <th></th>\n",
       "      <th></th>\n",
       "      <th></th>\n",
       "      <th></th>\n",
       "      <th></th>\n",
       "      <th></th>\n",
       "      <th></th>\n",
       "      <th></th>\n",
       "      <th></th>\n",
       "      <th></th>\n",
       "      <th></th>\n",
       "      <th></th>\n",
       "      <th></th>\n",
       "      <th></th>\n",
       "      <th></th>\n",
       "      <th></th>\n",
       "      <th></th>\n",
       "      <th></th>\n",
       "      <th></th>\n",
       "    </tr>\n",
       "  </thead>\n",
       "  <tbody>\n",
       "    <tr>\n",
       "      <th>Auckland</th>\n",
       "      <td>731.0</td>\n",
       "      <td>60.616963</td>\n",
       "      <td>6.559397</td>\n",
       "      <td>43.0</td>\n",
       "      <td>56.0</td>\n",
       "      <td>60.0</td>\n",
       "      <td>66.0</td>\n",
       "      <td>74.0</td>\n",
       "      <td>731.0</td>\n",
       "      <td>66.456908</td>\n",
       "      <td>...</td>\n",
       "      <td>60.0</td>\n",
       "      <td>69.0</td>\n",
       "      <td>731.0</td>\n",
       "      <td>11.744186</td>\n",
       "      <td>4.081224</td>\n",
       "      <td>2.0</td>\n",
       "      <td>9.0</td>\n",
       "      <td>11.0</td>\n",
       "      <td>14.0</td>\n",
       "      <td>24.0</td>\n",
       "    </tr>\n",
       "    <tr>\n",
       "      <th>Beijing</th>\n",
       "      <td>731.0</td>\n",
       "      <td>55.488372</td>\n",
       "      <td>20.332060</td>\n",
       "      <td>4.0</td>\n",
       "      <td>35.5</td>\n",
       "      <td>58.0</td>\n",
       "      <td>74.0</td>\n",
       "      <td>88.0</td>\n",
       "      <td>731.0</td>\n",
       "      <td>66.570451</td>\n",
       "      <td>...</td>\n",
       "      <td>64.0</td>\n",
       "      <td>80.0</td>\n",
       "      <td>731.0</td>\n",
       "      <td>22.265390</td>\n",
       "      <td>7.830264</td>\n",
       "      <td>3.0</td>\n",
       "      <td>16.0</td>\n",
       "      <td>22.0</td>\n",
       "      <td>27.0</td>\n",
       "      <td>47.0</td>\n",
       "    </tr>\n",
       "    <tr>\n",
       "      <th>Chicago</th>\n",
       "      <td>731.0</td>\n",
       "      <td>52.683995</td>\n",
       "      <td>19.475169</td>\n",
       "      <td>1.0</td>\n",
       "      <td>38.0</td>\n",
       "      <td>54.0</td>\n",
       "      <td>70.0</td>\n",
       "      <td>84.0</td>\n",
       "      <td>731.0</td>\n",
       "      <td>61.008208</td>\n",
       "      <td>...</td>\n",
       "      <td>60.0</td>\n",
       "      <td>75.0</td>\n",
       "      <td>731.0</td>\n",
       "      <td>17.157319</td>\n",
       "      <td>6.981866</td>\n",
       "      <td>3.0</td>\n",
       "      <td>12.0</td>\n",
       "      <td>17.0</td>\n",
       "      <td>22.0</td>\n",
       "      <td>45.0</td>\n",
       "    </tr>\n",
       "    <tr>\n",
       "      <th>Mumbai</th>\n",
       "      <td>731.0</td>\n",
       "      <td>80.937073</td>\n",
       "      <td>4.168556</td>\n",
       "      <td>68.0</td>\n",
       "      <td>78.0</td>\n",
       "      <td>82.0</td>\n",
       "      <td>84.0</td>\n",
       "      <td>90.0</td>\n",
       "      <td>731.0</td>\n",
       "      <td>89.964432</td>\n",
       "      <td>...</td>\n",
       "      <td>77.0</td>\n",
       "      <td>84.0</td>\n",
       "      <td>731.0</td>\n",
       "      <td>18.053352</td>\n",
       "      <td>7.899967</td>\n",
       "      <td>3.0</td>\n",
       "      <td>11.0</td>\n",
       "      <td>16.0</td>\n",
       "      <td>24.5</td>\n",
       "      <td>37.0</td>\n",
       "    </tr>\n",
       "    <tr>\n",
       "      <th>San Diego</th>\n",
       "      <td>731.0</td>\n",
       "      <td>66.551300</td>\n",
       "      <td>5.979511</td>\n",
       "      <td>52.0</td>\n",
       "      <td>63.0</td>\n",
       "      <td>66.0</td>\n",
       "      <td>71.0</td>\n",
       "      <td>86.0</td>\n",
       "      <td>731.0</td>\n",
       "      <td>72.621067</td>\n",
       "      <td>...</td>\n",
       "      <td>65.0</td>\n",
       "      <td>80.0</td>\n",
       "      <td>731.0</td>\n",
       "      <td>12.641587</td>\n",
       "      <td>6.401637</td>\n",
       "      <td>2.0</td>\n",
       "      <td>8.0</td>\n",
       "      <td>11.0</td>\n",
       "      <td>16.0</td>\n",
       "      <td>33.0</td>\n",
       "    </tr>\n",
       "  </tbody>\n",
       "</table>\n",
       "<p>5 rows × 32 columns</p>\n",
       "</div>"
      ],
      "text/plain": [
       "          avg_temp                                                      \\\n",
       "             count       mean        std   min   25%   50%   75%   max   \n",
       "city                                                                     \n",
       "Auckland     731.0  60.616963   6.559397  43.0  56.0  60.0  66.0  74.0   \n",
       "Beijing      731.0  55.488372  20.332060   4.0  35.5  58.0  74.0  88.0   \n",
       "Chicago      731.0  52.683995  19.475169   1.0  38.0  54.0  70.0  84.0   \n",
       "Mumbai       731.0  80.937073   4.168556  68.0  78.0  82.0  84.0  90.0   \n",
       "San Diego    731.0  66.551300   5.979511  52.0  63.0  66.0  71.0  86.0   \n",
       "\n",
       "          high_temp             ... low_temp       daily_delta             \\\n",
       "              count       mean  ...      75%   max       count       mean   \n",
       "city                            ...                                         \n",
       "Auckland      731.0  66.456908  ...     60.0  69.0       731.0  11.744186   \n",
       "Beijing       731.0  66.570451  ...     64.0  80.0       731.0  22.265390   \n",
       "Chicago       731.0  61.008208  ...     60.0  75.0       731.0  17.157319   \n",
       "Mumbai        731.0  89.964432  ...     77.0  84.0       731.0  18.053352   \n",
       "San Diego     731.0  72.621067  ...     65.0  80.0       731.0  12.641587   \n",
       "\n",
       "                                                  \n",
       "                std  min   25%   50%   75%   max  \n",
       "city                                              \n",
       "Auckland   4.081224  2.0   9.0  11.0  14.0  24.0  \n",
       "Beijing    7.830264  3.0  16.0  22.0  27.0  47.0  \n",
       "Chicago    6.981866  3.0  12.0  17.0  22.0  45.0  \n",
       "Mumbai     7.899967  3.0  11.0  16.0  24.5  37.0  \n",
       "San Diego  6.401637  2.0   8.0  11.0  16.0  33.0  \n",
       "\n",
       "[5 rows x 32 columns]"
      ]
     },
     "execution_count": 80,
     "metadata": {},
     "output_type": "execute_result"
    }
   ],
   "source": [
    "## groupby\n",
    "\n",
    "#weather_df.groupby(\"city\")[\"avg_temp\"].mean()\n",
    "#weather_df.groupby(\"city\")['avg_temp'].count()\n",
    "#weather_df.groupby(\"city\")['avg_temp'].mean()\n",
    "weather_df.groupby(\"city\").describe()"
   ]
  },
  {
   "cell_type": "code",
   "execution_count": 81,
   "metadata": {
    "code_folding": []
   },
   "outputs": [
    {
     "data": {
      "text/plain": [
       "0       2016-01-01\n",
       "1       2016-01-02\n",
       "2       2016-01-03\n",
       "3       2016-01-04\n",
       "4       2016-01-05\n",
       "           ...    \n",
       "3650    2017-12-27\n",
       "3651    2017-12-28\n",
       "3652    2017-12-29\n",
       "3653    2017-12-30\n",
       "3654    2017-12-31\n",
       "Name: date, Length: 3655, dtype: object"
      ]
     },
     "execution_count": 81,
     "metadata": {},
     "output_type": "execute_result"
    }
   ],
   "source": [
    "## plot time series data by city\n",
    "\"\"\"\n",
    "currently the date is a \"string\" we know this because pandas is \n",
    "saying that it's an \"object\" - if we want to plot this data we want\n",
    "to interpret these dates as being times that have can be ordered one\n",
    "after another\n",
    "\n",
    "\n",
    "\"\"\"\n",
    "weather_df[\"date\"]\n"
   ]
  },
  {
   "cell_type": "code",
   "execution_count": 82,
   "metadata": {
    "code_folding": []
   },
   "outputs": [
    {
     "data": {
      "text/plain": [
       "0      2016-01-01\n",
       "1      2016-01-02\n",
       "2      2016-01-03\n",
       "3      2016-01-04\n",
       "4      2016-01-05\n",
       "          ...    \n",
       "3650   2017-12-27\n",
       "3651   2017-12-28\n",
       "3652   2017-12-29\n",
       "3653   2017-12-30\n",
       "3654   2017-12-31\n",
       "Name: date, Length: 3655, dtype: datetime64[ns]"
      ]
     },
     "execution_count": 82,
     "metadata": {},
     "output_type": "execute_result"
    }
   ],
   "source": [
    "## converting our dates to a \"datetime\" type\n",
    "\"\"\"\n",
    "we can convert the date column to a \"datetime\" type\n",
    "this type is similar to integer or a float, but,\n",
    "it's specific for times and dates\n",
    "\n",
    "\"\"\"\n",
    "\n",
    "weather_df['date'] = pd.to_datetime(weather_df[\"date\"])\n",
    "weather_df[\"date\"]\n"
   ]
  },
  {
   "cell_type": "code",
   "execution_count": 83,
   "metadata": {
    "code_folding": []
   },
   "outputs": [
    {
     "data": {
      "text/plain": [
       "city\n",
       "Auckland     AxesSubplot(0.125,0.125;0.775x0.755)\n",
       "Beijing      AxesSubplot(0.125,0.125;0.775x0.755)\n",
       "Chicago      AxesSubplot(0.125,0.125;0.775x0.755)\n",
       "Mumbai       AxesSubplot(0.125,0.125;0.775x0.755)\n",
       "San Diego    AxesSubplot(0.125,0.125;0.775x0.755)\n",
       "dtype: object"
      ]
     },
     "execution_count": 83,
     "metadata": {},
     "output_type": "execute_result"
    },
    {
     "data": {
      "image/png": "[encoded data removed]",
      "text/plain": [
       "<Figure size 432x288 with 1 Axes>"
      ]
     },
     "metadata": {
      "needs_background": "light"
     },
     "output_type": "display_data"
    },
    {
     "data": {
      "image/png": "[encoded data removed]",
      "text/plain": [
       "<Figure size 432x288 with 1 Axes>"
      ]
     },
     "metadata": {
      "needs_background": "light"
     },
     "output_type": "display_data"
    },
    {
     "data": {
      "image/png": "[encoded data removed]",
      "text/plain": [
       "<Figure size 432x288 with 1 Axes>"
      ]
     },
     "metadata": {
      "needs_background": "light"
     },
     "output_type": "display_data"
    },
    {
     "data": {
      "image/png": "[encoded data removed]",
      "text/plain": [
       "<Figure size 432x288 with 1 Axes>"
      ]
     },
     "metadata": {
      "needs_background": "light"
     },
     "output_type": "display_data"
    },
    {
     "data": {
      "image/png": "[encoded data removed]",
      "text/plain": [
       "<Figure size 432x288 with 1 Axes>"
      ]
     },
     "metadata": {
      "needs_background": "light"
     },
     "output_type": "display_data"
    }
   ],
   "source": [
    "## plot time series data by city\n",
    "\n",
    "weather_df.groupby(\"city\").plot.line(x=\"date\", y=\"avg_temp\")\n",
    "#weather_df.groupby(\"city\").plot.line(x=\"date\", y=\"daily_delta\")\n"
   ]
  },
  {
   "cell_type": "code",
   "execution_count": 84,
   "metadata": {
    "code_folding": []
   },
   "outputs": [],
   "source": [
    "## outputting a table\n",
    "\n",
    "\n",
    "\"\"\"\n",
    "once we do somethign w/ our table, we often want to output it\n",
    "there are loads of \"to_xxx\" functions that allow us to do this\n",
    "\n",
    "e.g. to_csv is one of the most useful!\n",
    "\n",
    "\"\"\"\n",
    "\n",
    "df_SD_only = weather_df[weather_df[\"city\"]==\"San Diego\"]\n",
    "df_SD_only.to_csv(\"inputs/weather_SD_only.csv\",sep=\"\\t\")\n"
   ]
  },
  {
   "cell_type": "code",
   "execution_count": 85,
   "metadata": {
    "code_folding": []
   },
   "outputs": [
    {
     "name": "stdout",
     "output_type": "stream",
     "text": [
      "[\n",
      "    {\n",
      "        \"city\": \"Auckland\",\n",
      "        \"lat\": -36.848461,\n",
      "        \"lon\": 174.763336\n",
      "    },\n",
      "    {\n",
      "        \"city\": \"Beijing\",\n",
      "        \"lat\": 39.916668,\n",
      "        \"lon\": 116.383331\n",
      "    },\n",
      "    {\n",
      "        \"city\": \"Chicago\",\n",
      "        \"lat\": 41.881832,\n",
      "        \"lon\": -87.623177\n",
      "    },\n",
      "    {\n",
      "        \"city\": \"Mumbai\",\n",
      "        \"lat\": 19.07609,\n",
      "        \"lon\": 72.877426\n",
      "    },\n",
      "    {\n",
      "        \"city\": \"San Diego\",\n",
      "        \"lat\": 32.715736,\n",
      "        \"lon\": -117.161087\n",
      "    }\n",
      "]\n"
     ]
    }
   ],
   "source": [
    "## creating a table from dictionary\n",
    "\n",
    "\"\"\"\n",
    "Another thing we often want to do is create a dataframe \n",
    "\"on the fly\" in code. There are many ways to do this, but\n",
    "one of the most useful is to create a list of dictionaries, \n",
    "where each dictionary is keyed off of the desired column names\n",
    "\n",
    "\n",
    "\"\"\"\n",
    "\n",
    "city_coords = [{\"city\":\"Auckland\",\"lat\":-36.848461, \"lon\": 174.763336},\n",
    "               {\"city\":\"Beijing\", \"lat\": 39.916668,\"lon\": 116.383331},\n",
    "               {\"city\":\"Chicago\", \"lat\": 41.881832,\"lon\": -87.623177},\n",
    "               {\"city\":\"Mumbai\", \"lat\":19.076090 ,\"lon\": 72.877426},\n",
    "               {\"city\":\"San Diego\",\"lat\":32.715736,\"lon\": -117.161087}]\n",
    "\n",
    "dprint(city_coords)"
   ]
  },
  {
   "cell_type": "code",
   "execution_count": 86,
   "metadata": {
    "code_folding": []
   },
   "outputs": [
    {
     "data": {
      "text/html": [
       "<div>\n",
       "<style scoped>\n",
       "    .dataframe tbody tr th:only-of-type {\n",
       "        vertical-align: middle;\n",
       "    }\n",
       "\n",
       "    .dataframe tbody tr th {\n",
       "        vertical-align: top;\n",
       "    }\n",
       "\n",
       "    .dataframe thead th {\n",
       "        text-align: right;\n",
       "    }\n",
       "</style>\n",
       "<table border=\"1\" class=\"dataframe\">\n",
       "  <thead>\n",
       "    <tr style=\"text-align: right;\">\n",
       "      <th></th>\n",
       "      <th>city</th>\n",
       "      <th>lat</th>\n",
       "      <th>lon</th>\n",
       "    </tr>\n",
       "  </thead>\n",
       "  <tbody>\n",
       "    <tr>\n",
       "      <th>0</th>\n",
       "      <td>Auckland</td>\n",
       "      <td>-36.848461</td>\n",
       "      <td>174.763336</td>\n",
       "    </tr>\n",
       "    <tr>\n",
       "      <th>1</th>\n",
       "      <td>Beijing</td>\n",
       "      <td>39.916668</td>\n",
       "      <td>116.383331</td>\n",
       "    </tr>\n",
       "    <tr>\n",
       "      <th>2</th>\n",
       "      <td>Chicago</td>\n",
       "      <td>41.881832</td>\n",
       "      <td>-87.623177</td>\n",
       "    </tr>\n",
       "    <tr>\n",
       "      <th>3</th>\n",
       "      <td>Mumbai</td>\n",
       "      <td>19.076090</td>\n",
       "      <td>72.877426</td>\n",
       "    </tr>\n",
       "    <tr>\n",
       "      <th>4</th>\n",
       "      <td>San Diego</td>\n",
       "      <td>32.715736</td>\n",
       "      <td>-117.161087</td>\n",
       "    </tr>\n",
       "  </tbody>\n",
       "</table>\n",
       "</div>"
      ],
      "text/plain": [
       "        city        lat         lon\n",
       "0   Auckland -36.848461  174.763336\n",
       "1    Beijing  39.916668  116.383331\n",
       "2    Chicago  41.881832  -87.623177\n",
       "3     Mumbai  19.076090   72.877426\n",
       "4  San Diego  32.715736 -117.161087"
      ]
     },
     "execution_count": 86,
     "metadata": {},
     "output_type": "execute_result"
    }
   ],
   "source": [
    "## creating a table from dictionary\n",
    "\n",
    "df_coords = pd.DataFrame(city_coords)\n",
    "df_coords"
   ]
  },
  {
   "cell_type": "code",
   "execution_count": 87,
   "metadata": {
    "code_folding": []
   },
   "outputs": [
    {
     "data": {
      "text/html": [
       "<div>\n",
       "<style scoped>\n",
       "    .dataframe tbody tr th:only-of-type {\n",
       "        vertical-align: middle;\n",
       "    }\n",
       "\n",
       "    .dataframe tbody tr th {\n",
       "        vertical-align: top;\n",
       "    }\n",
       "\n",
       "    .dataframe thead th {\n",
       "        text-align: right;\n",
       "    }\n",
       "</style>\n",
       "<table border=\"1\" class=\"dataframe\">\n",
       "  <thead>\n",
       "    <tr style=\"text-align: right;\">\n",
       "      <th></th>\n",
       "      <th>x</th>\n",
       "      <th>x squared</th>\n",
       "      <th>x squarerooted</th>\n",
       "    </tr>\n",
       "  </thead>\n",
       "  <tbody>\n",
       "    <tr>\n",
       "      <th>0</th>\n",
       "      <td>0</td>\n",
       "      <td>0</td>\n",
       "      <td>0.000000</td>\n",
       "    </tr>\n",
       "    <tr>\n",
       "      <th>1</th>\n",
       "      <td>1</td>\n",
       "      <td>1</td>\n",
       "      <td>1.000000</td>\n",
       "    </tr>\n",
       "    <tr>\n",
       "      <th>2</th>\n",
       "      <td>2</td>\n",
       "      <td>4</td>\n",
       "      <td>1.414214</td>\n",
       "    </tr>\n",
       "    <tr>\n",
       "      <th>3</th>\n",
       "      <td>3</td>\n",
       "      <td>9</td>\n",
       "      <td>1.732051</td>\n",
       "    </tr>\n",
       "    <tr>\n",
       "      <th>4</th>\n",
       "      <td>4</td>\n",
       "      <td>16</td>\n",
       "      <td>2.000000</td>\n",
       "    </tr>\n",
       "    <tr>\n",
       "      <th>...</th>\n",
       "      <td>...</td>\n",
       "      <td>...</td>\n",
       "      <td>...</td>\n",
       "    </tr>\n",
       "    <tr>\n",
       "      <th>95</th>\n",
       "      <td>95</td>\n",
       "      <td>9025</td>\n",
       "      <td>9.746794</td>\n",
       "    </tr>\n",
       "    <tr>\n",
       "      <th>96</th>\n",
       "      <td>96</td>\n",
       "      <td>9216</td>\n",
       "      <td>9.797959</td>\n",
       "    </tr>\n",
       "    <tr>\n",
       "      <th>97</th>\n",
       "      <td>97</td>\n",
       "      <td>9409</td>\n",
       "      <td>9.848858</td>\n",
       "    </tr>\n",
       "    <tr>\n",
       "      <th>98</th>\n",
       "      <td>98</td>\n",
       "      <td>9604</td>\n",
       "      <td>9.899495</td>\n",
       "    </tr>\n",
       "    <tr>\n",
       "      <th>99</th>\n",
       "      <td>99</td>\n",
       "      <td>9801</td>\n",
       "      <td>9.949874</td>\n",
       "    </tr>\n",
       "  </tbody>\n",
       "</table>\n",
       "<p>100 rows × 3 columns</p>\n",
       "</div>"
      ],
      "text/plain": [
       "     x  x squared  x squarerooted\n",
       "0    0          0        0.000000\n",
       "1    1          1        1.000000\n",
       "2    2          4        1.414214\n",
       "3    3          9        1.732051\n",
       "4    4         16        2.000000\n",
       "..  ..        ...             ...\n",
       "95  95       9025        9.746794\n",
       "96  96       9216        9.797959\n",
       "97  97       9409        9.848858\n",
       "98  98       9604        9.899495\n",
       "99  99       9801        9.949874\n",
       "\n",
       "[100 rows x 3 columns]"
      ]
     },
     "execution_count": 87,
     "metadata": {},
     "output_type": "execute_result"
    }
   ],
   "source": [
    "## Another example of creating a dataframe on the fly\n",
    "\n",
    "\n",
    "dict_list = []\n",
    "\n",
    "for x in range(100):\n",
    "    x_sq = x**2\n",
    "    x_sqrt = x**(1/2)\n",
    "    dict_list.append({\"x\":x, \"x squared\":x_sq, \"x squarerooted\":x_sqrt})\n",
    "\n",
    "t=pd.DataFrame(dict_list)\n",
    "#t.to_csv(fn_output)\n",
    "t\n"
   ]
  },
  {
   "cell_type": "markdown",
   "metadata": {},
   "source": [
    "## merging data between tables\n",
    "\n",
    "often we have data in multiple tables that we wish to combine\n",
    "![numpy](resources/08_concat_row.svg)\n",
    "\n"
   ]
  },
  {
   "cell_type": "code",
   "execution_count": 90,
   "metadata": {
    "code_folding": []
   },
   "outputs": [
    {
     "data": {
      "text/html": [
       "<div>\n",
       "<style scoped>\n",
       "    .dataframe tbody tr th:only-of-type {\n",
       "        vertical-align: middle;\n",
       "    }\n",
       "\n",
       "    .dataframe tbody tr th {\n",
       "        vertical-align: top;\n",
       "    }\n",
       "\n",
       "    .dataframe thead th {\n",
       "        text-align: right;\n",
       "    }\n",
       "</style>\n",
       "<table border=\"1\" class=\"dataframe\">\n",
       "  <thead>\n",
       "    <tr style=\"text-align: right;\">\n",
       "      <th></th>\n",
       "      <th>city</th>\n",
       "      <th>lat</th>\n",
       "      <th>lon</th>\n",
       "    </tr>\n",
       "  </thead>\n",
       "  <tbody>\n",
       "    <tr>\n",
       "      <th>3</th>\n",
       "      <td>Mumbai</td>\n",
       "      <td>19.076090</td>\n",
       "      <td>72.877426</td>\n",
       "    </tr>\n",
       "    <tr>\n",
       "      <th>4</th>\n",
       "      <td>San Diego</td>\n",
       "      <td>32.715736</td>\n",
       "      <td>-117.161087</td>\n",
       "    </tr>\n",
       "  </tbody>\n",
       "</table>\n",
       "</div>"
      ],
      "text/plain": [
       "        city        lat         lon\n",
       "3     Mumbai  19.076090   72.877426\n",
       "4  San Diego  32.715736 -117.161087"
      ]
     },
     "execution_count": 90,
     "metadata": {},
     "output_type": "execute_result"
    }
   ],
   "source": [
    "## subsetting our table into two tables\n",
    "df1 = df_coords.iloc[:3]\n",
    "df2 = df_coords.iloc[3:]\n",
    "df1\n",
    "df2"
   ]
  },
  {
   "cell_type": "code",
   "execution_count": 101,
   "metadata": {
    "code_folding": []
   },
   "outputs": [
    {
     "data": {
      "text/html": [
       "<div>\n",
       "<style scoped>\n",
       "    .dataframe tbody tr th:only-of-type {\n",
       "        vertical-align: middle;\n",
       "    }\n",
       "\n",
       "    .dataframe tbody tr th {\n",
       "        vertical-align: top;\n",
       "    }\n",
       "\n",
       "    .dataframe thead th {\n",
       "        text-align: right;\n",
       "    }\n",
       "</style>\n",
       "<table border=\"1\" class=\"dataframe\">\n",
       "  <thead>\n",
       "    <tr style=\"text-align: right;\">\n",
       "      <th></th>\n",
       "      <th>city</th>\n",
       "      <th>lat</th>\n",
       "      <th>lon</th>\n",
       "    </tr>\n",
       "  </thead>\n",
       "  <tbody>\n",
       "    <tr>\n",
       "      <th>3</th>\n",
       "      <td>Mumbai</td>\n",
       "      <td>19.076090</td>\n",
       "      <td>72.877426</td>\n",
       "    </tr>\n",
       "    <tr>\n",
       "      <th>4</th>\n",
       "      <td>San Diego</td>\n",
       "      <td>32.715736</td>\n",
       "      <td>-117.161087</td>\n",
       "    </tr>\n",
       "    <tr>\n",
       "      <th>0</th>\n",
       "      <td>Auckland</td>\n",
       "      <td>-36.848461</td>\n",
       "      <td>174.763336</td>\n",
       "    </tr>\n",
       "    <tr>\n",
       "      <th>1</th>\n",
       "      <td>Beijing</td>\n",
       "      <td>39.916668</td>\n",
       "      <td>116.383331</td>\n",
       "    </tr>\n",
       "    <tr>\n",
       "      <th>2</th>\n",
       "      <td>Chicago</td>\n",
       "      <td>41.881832</td>\n",
       "      <td>-87.623177</td>\n",
       "    </tr>\n",
       "  </tbody>\n",
       "</table>\n",
       "</div>"
      ],
      "text/plain": [
       "        city        lat         lon\n",
       "3     Mumbai  19.076090   72.877426\n",
       "4  San Diego  32.715736 -117.161087\n",
       "0   Auckland -36.848461  174.763336\n",
       "1    Beijing  39.916668  116.383331\n",
       "2    Chicago  41.881832  -87.623177"
      ]
     },
     "execution_count": 101,
     "metadata": {},
     "output_type": "execute_result"
    }
   ],
   "source": [
    "## concatenating tables\n",
    "\n",
    "concatenated_table = pd.concat([df2,df1])\n",
    "concatenated_table\n"
   ]
  },
  {
   "cell_type": "code",
   "execution_count": 102,
   "metadata": {},
   "outputs": [
    {
     "data": {
      "text/plain": [
       "city    San Diego\n",
       "lat       32.7157\n",
       "lon      -117.161\n",
       "Name: 4, dtype: object"
      ]
     },
     "execution_count": 102,
     "metadata": {},
     "output_type": "execute_result"
    }
   ],
   "source": [
    "concatenated_table.iloc[1]"
   ]
  },
  {
   "cell_type": "code",
   "execution_count": 103,
   "metadata": {},
   "outputs": [
    {
     "data": {
      "text/plain": [
       "city    Beijing\n",
       "lat     39.9167\n",
       "lon     116.383\n",
       "Name: 1, dtype: object"
      ]
     },
     "execution_count": 103,
     "metadata": {},
     "output_type": "execute_result"
    }
   ],
   "source": [
    "concatenated_table.loc[1]"
   ]
  },
  {
   "cell_type": "code",
   "execution_count": 94,
   "metadata": {},
   "outputs": [
    {
     "data": {
      "text/html": [
       "<div>\n",
       "<style scoped>\n",
       "    .dataframe tbody tr th:only-of-type {\n",
       "        vertical-align: middle;\n",
       "    }\n",
       "\n",
       "    .dataframe tbody tr th {\n",
       "        vertical-align: top;\n",
       "    }\n",
       "\n",
       "    .dataframe thead th {\n",
       "        text-align: right;\n",
       "    }\n",
       "</style>\n",
       "<table border=\"1\" class=\"dataframe\">\n",
       "  <thead>\n",
       "    <tr style=\"text-align: right;\">\n",
       "      <th></th>\n",
       "      <th>city</th>\n",
       "      <th>date</th>\n",
       "      <th>avg_temp</th>\n",
       "      <th>high_temp</th>\n",
       "      <th>low_temp</th>\n",
       "      <th>daily_delta</th>\n",
       "    </tr>\n",
       "  </thead>\n",
       "  <tbody>\n",
       "    <tr>\n",
       "      <th>0</th>\n",
       "      <td>Auckland</td>\n",
       "      <td>2016-01-01</td>\n",
       "      <td>65</td>\n",
       "      <td>68</td>\n",
       "      <td>62</td>\n",
       "      <td>6</td>\n",
       "    </tr>\n",
       "    <tr>\n",
       "      <th>1</th>\n",
       "      <td>Auckland</td>\n",
       "      <td>2016-01-02</td>\n",
       "      <td>66</td>\n",
       "      <td>68</td>\n",
       "      <td>64</td>\n",
       "      <td>4</td>\n",
       "    </tr>\n",
       "    <tr>\n",
       "      <th>2</th>\n",
       "      <td>Auckland</td>\n",
       "      <td>2016-01-03</td>\n",
       "      <td>72</td>\n",
       "      <td>77</td>\n",
       "      <td>66</td>\n",
       "      <td>11</td>\n",
       "    </tr>\n",
       "    <tr>\n",
       "      <th>3</th>\n",
       "      <td>Auckland</td>\n",
       "      <td>2016-01-04</td>\n",
       "      <td>66</td>\n",
       "      <td>73</td>\n",
       "      <td>60</td>\n",
       "      <td>13</td>\n",
       "    </tr>\n",
       "    <tr>\n",
       "      <th>4</th>\n",
       "      <td>Auckland</td>\n",
       "      <td>2016-01-05</td>\n",
       "      <td>62</td>\n",
       "      <td>69</td>\n",
       "      <td>55</td>\n",
       "      <td>14</td>\n",
       "    </tr>\n",
       "    <tr>\n",
       "      <th>...</th>\n",
       "      <td>...</td>\n",
       "      <td>...</td>\n",
       "      <td>...</td>\n",
       "      <td>...</td>\n",
       "      <td>...</td>\n",
       "      <td>...</td>\n",
       "    </tr>\n",
       "    <tr>\n",
       "      <th>3650</th>\n",
       "      <td>San Diego</td>\n",
       "      <td>2017-12-27</td>\n",
       "      <td>60</td>\n",
       "      <td>69</td>\n",
       "      <td>50</td>\n",
       "      <td>19</td>\n",
       "    </tr>\n",
       "    <tr>\n",
       "      <th>3651</th>\n",
       "      <td>San Diego</td>\n",
       "      <td>2017-12-28</td>\n",
       "      <td>62</td>\n",
       "      <td>74</td>\n",
       "      <td>49</td>\n",
       "      <td>25</td>\n",
       "    </tr>\n",
       "    <tr>\n",
       "      <th>3652</th>\n",
       "      <td>San Diego</td>\n",
       "      <td>2017-12-29</td>\n",
       "      <td>63</td>\n",
       "      <td>77</td>\n",
       "      <td>49</td>\n",
       "      <td>28</td>\n",
       "    </tr>\n",
       "    <tr>\n",
       "      <th>3653</th>\n",
       "      <td>San Diego</td>\n",
       "      <td>2017-12-30</td>\n",
       "      <td>61</td>\n",
       "      <td>72</td>\n",
       "      <td>49</td>\n",
       "      <td>23</td>\n",
       "    </tr>\n",
       "    <tr>\n",
       "      <th>3654</th>\n",
       "      <td>San Diego</td>\n",
       "      <td>2017-12-31</td>\n",
       "      <td>57</td>\n",
       "      <td>64</td>\n",
       "      <td>50</td>\n",
       "      <td>14</td>\n",
       "    </tr>\n",
       "  </tbody>\n",
       "</table>\n",
       "<p>3655 rows × 6 columns</p>\n",
       "</div>"
      ],
      "text/plain": [
       "           city       date  avg_temp  high_temp  low_temp  daily_delta\n",
       "0      Auckland 2016-01-01        65         68        62            6\n",
       "1      Auckland 2016-01-02        66         68        64            4\n",
       "2      Auckland 2016-01-03        72         77        66           11\n",
       "3      Auckland 2016-01-04        66         73        60           13\n",
       "4      Auckland 2016-01-05        62         69        55           14\n",
       "...         ...        ...       ...        ...       ...          ...\n",
       "3650  San Diego 2017-12-27        60         69        50           19\n",
       "3651  San Diego 2017-12-28        62         74        49           25\n",
       "3652  San Diego 2017-12-29        63         77        49           28\n",
       "3653  San Diego 2017-12-30        61         72        49           23\n",
       "3654  San Diego 2017-12-31        57         64        50           14\n",
       "\n",
       "[3655 rows x 6 columns]"
      ]
     },
     "execution_count": 94,
     "metadata": {},
     "output_type": "execute_result"
    }
   ],
   "source": [
    "weather_df"
   ]
  },
  {
   "cell_type": "code",
   "execution_count": 95,
   "metadata": {},
   "outputs": [
    {
     "data": {
      "text/html": [
       "<div>\n",
       "<style scoped>\n",
       "    .dataframe tbody tr th:only-of-type {\n",
       "        vertical-align: middle;\n",
       "    }\n",
       "\n",
       "    .dataframe tbody tr th {\n",
       "        vertical-align: top;\n",
       "    }\n",
       "\n",
       "    .dataframe thead th {\n",
       "        text-align: right;\n",
       "    }\n",
       "</style>\n",
       "<table border=\"1\" class=\"dataframe\">\n",
       "  <thead>\n",
       "    <tr style=\"text-align: right;\">\n",
       "      <th></th>\n",
       "      <th>city</th>\n",
       "      <th>lat</th>\n",
       "      <th>lon</th>\n",
       "    </tr>\n",
       "  </thead>\n",
       "  <tbody>\n",
       "    <tr>\n",
       "      <th>0</th>\n",
       "      <td>Auckland</td>\n",
       "      <td>-36.848461</td>\n",
       "      <td>174.763336</td>\n",
       "    </tr>\n",
       "    <tr>\n",
       "      <th>1</th>\n",
       "      <td>Beijing</td>\n",
       "      <td>39.916668</td>\n",
       "      <td>116.383331</td>\n",
       "    </tr>\n",
       "    <tr>\n",
       "      <th>2</th>\n",
       "      <td>Chicago</td>\n",
       "      <td>41.881832</td>\n",
       "      <td>-87.623177</td>\n",
       "    </tr>\n",
       "    <tr>\n",
       "      <th>3</th>\n",
       "      <td>Mumbai</td>\n",
       "      <td>19.076090</td>\n",
       "      <td>72.877426</td>\n",
       "    </tr>\n",
       "    <tr>\n",
       "      <th>4</th>\n",
       "      <td>San Diego</td>\n",
       "      <td>32.715736</td>\n",
       "      <td>-117.161087</td>\n",
       "    </tr>\n",
       "  </tbody>\n",
       "</table>\n",
       "</div>"
      ],
      "text/plain": [
       "        city        lat         lon\n",
       "0   Auckland -36.848461  174.763336\n",
       "1    Beijing  39.916668  116.383331\n",
       "2    Chicago  41.881832  -87.623177\n",
       "3     Mumbai  19.076090   72.877426\n",
       "4  San Diego  32.715736 -117.161087"
      ]
     },
     "execution_count": 95,
     "metadata": {},
     "output_type": "execute_result"
    }
   ],
   "source": [
    "df_coords"
   ]
  },
  {
   "cell_type": "code",
   "execution_count": 96,
   "metadata": {
    "code_folding": []
   },
   "outputs": [
    {
     "data": {
      "text/html": [
       "<div>\n",
       "<style scoped>\n",
       "    .dataframe tbody tr th:only-of-type {\n",
       "        vertical-align: middle;\n",
       "    }\n",
       "\n",
       "    .dataframe tbody tr th {\n",
       "        vertical-align: top;\n",
       "    }\n",
       "\n",
       "    .dataframe thead th {\n",
       "        text-align: right;\n",
       "    }\n",
       "</style>\n",
       "<table border=\"1\" class=\"dataframe\">\n",
       "  <thead>\n",
       "    <tr style=\"text-align: right;\">\n",
       "      <th></th>\n",
       "      <th>city</th>\n",
       "      <th>date</th>\n",
       "      <th>avg_temp</th>\n",
       "      <th>high_temp</th>\n",
       "      <th>low_temp</th>\n",
       "      <th>daily_delta</th>\n",
       "      <th>lat</th>\n",
       "      <th>lon</th>\n",
       "    </tr>\n",
       "  </thead>\n",
       "  <tbody>\n",
       "    <tr>\n",
       "      <th>0</th>\n",
       "      <td>Auckland</td>\n",
       "      <td>2016-01-01</td>\n",
       "      <td>65</td>\n",
       "      <td>68</td>\n",
       "      <td>62</td>\n",
       "      <td>6</td>\n",
       "      <td>-36.848461</td>\n",
       "      <td>174.763336</td>\n",
       "    </tr>\n",
       "    <tr>\n",
       "      <th>1</th>\n",
       "      <td>Auckland</td>\n",
       "      <td>2016-01-02</td>\n",
       "      <td>66</td>\n",
       "      <td>68</td>\n",
       "      <td>64</td>\n",
       "      <td>4</td>\n",
       "      <td>-36.848461</td>\n",
       "      <td>174.763336</td>\n",
       "    </tr>\n",
       "    <tr>\n",
       "      <th>2</th>\n",
       "      <td>Auckland</td>\n",
       "      <td>2016-01-03</td>\n",
       "      <td>72</td>\n",
       "      <td>77</td>\n",
       "      <td>66</td>\n",
       "      <td>11</td>\n",
       "      <td>-36.848461</td>\n",
       "      <td>174.763336</td>\n",
       "    </tr>\n",
       "    <tr>\n",
       "      <th>3</th>\n",
       "      <td>Auckland</td>\n",
       "      <td>2016-01-04</td>\n",
       "      <td>66</td>\n",
       "      <td>73</td>\n",
       "      <td>60</td>\n",
       "      <td>13</td>\n",
       "      <td>-36.848461</td>\n",
       "      <td>174.763336</td>\n",
       "    </tr>\n",
       "    <tr>\n",
       "      <th>4</th>\n",
       "      <td>Auckland</td>\n",
       "      <td>2016-01-05</td>\n",
       "      <td>62</td>\n",
       "      <td>69</td>\n",
       "      <td>55</td>\n",
       "      <td>14</td>\n",
       "      <td>-36.848461</td>\n",
       "      <td>174.763336</td>\n",
       "    </tr>\n",
       "    <tr>\n",
       "      <th>...</th>\n",
       "      <td>...</td>\n",
       "      <td>...</td>\n",
       "      <td>...</td>\n",
       "      <td>...</td>\n",
       "      <td>...</td>\n",
       "      <td>...</td>\n",
       "      <td>...</td>\n",
       "      <td>...</td>\n",
       "    </tr>\n",
       "    <tr>\n",
       "      <th>3650</th>\n",
       "      <td>San Diego</td>\n",
       "      <td>2017-12-27</td>\n",
       "      <td>60</td>\n",
       "      <td>69</td>\n",
       "      <td>50</td>\n",
       "      <td>19</td>\n",
       "      <td>32.715736</td>\n",
       "      <td>-117.161087</td>\n",
       "    </tr>\n",
       "    <tr>\n",
       "      <th>3651</th>\n",
       "      <td>San Diego</td>\n",
       "      <td>2017-12-28</td>\n",
       "      <td>62</td>\n",
       "      <td>74</td>\n",
       "      <td>49</td>\n",
       "      <td>25</td>\n",
       "      <td>32.715736</td>\n",
       "      <td>-117.161087</td>\n",
       "    </tr>\n",
       "    <tr>\n",
       "      <th>3652</th>\n",
       "      <td>San Diego</td>\n",
       "      <td>2017-12-29</td>\n",
       "      <td>63</td>\n",
       "      <td>77</td>\n",
       "      <td>49</td>\n",
       "      <td>28</td>\n",
       "      <td>32.715736</td>\n",
       "      <td>-117.161087</td>\n",
       "    </tr>\n",
       "    <tr>\n",
       "      <th>3653</th>\n",
       "      <td>San Diego</td>\n",
       "      <td>2017-12-30</td>\n",
       "      <td>61</td>\n",
       "      <td>72</td>\n",
       "      <td>49</td>\n",
       "      <td>23</td>\n",
       "      <td>32.715736</td>\n",
       "      <td>-117.161087</td>\n",
       "    </tr>\n",
       "    <tr>\n",
       "      <th>3654</th>\n",
       "      <td>San Diego</td>\n",
       "      <td>2017-12-31</td>\n",
       "      <td>57</td>\n",
       "      <td>64</td>\n",
       "      <td>50</td>\n",
       "      <td>14</td>\n",
       "      <td>32.715736</td>\n",
       "      <td>-117.161087</td>\n",
       "    </tr>\n",
       "  </tbody>\n",
       "</table>\n",
       "<p>3655 rows × 8 columns</p>\n",
       "</div>"
      ],
      "text/plain": [
       "           city       date  avg_temp  high_temp  low_temp  daily_delta  \\\n",
       "0      Auckland 2016-01-01        65         68        62            6   \n",
       "1      Auckland 2016-01-02        66         68        64            4   \n",
       "2      Auckland 2016-01-03        72         77        66           11   \n",
       "3      Auckland 2016-01-04        66         73        60           13   \n",
       "4      Auckland 2016-01-05        62         69        55           14   \n",
       "...         ...        ...       ...        ...       ...          ...   \n",
       "3650  San Diego 2017-12-27        60         69        50           19   \n",
       "3651  San Diego 2017-12-28        62         74        49           25   \n",
       "3652  San Diego 2017-12-29        63         77        49           28   \n",
       "3653  San Diego 2017-12-30        61         72        49           23   \n",
       "3654  San Diego 2017-12-31        57         64        50           14   \n",
       "\n",
       "            lat         lon  \n",
       "0    -36.848461  174.763336  \n",
       "1    -36.848461  174.763336  \n",
       "2    -36.848461  174.763336  \n",
       "3    -36.848461  174.763336  \n",
       "4    -36.848461  174.763336  \n",
       "...         ...         ...  \n",
       "3650  32.715736 -117.161087  \n",
       "3651  32.715736 -117.161087  \n",
       "3652  32.715736 -117.161087  \n",
       "3653  32.715736 -117.161087  \n",
       "3654  32.715736 -117.161087  \n",
       "\n",
       "[3655 rows x 8 columns]"
      ]
     },
     "execution_count": 96,
     "metadata": {},
     "output_type": "execute_result"
    }
   ],
   "source": [
    "## merging tables\n",
    "\n",
    "merged_table = pd.merge(weather_df, df_coords, on=\"city\")\n",
    "merged_table"
   ]
  },
  {
   "cell_type": "markdown",
   "metadata": {},
   "source": [
    "# numpy"
   ]
  },
  {
   "cell_type": "code",
   "execution_count": 105,
   "metadata": {
    "code_folding": []
   },
   "outputs": [
    {
     "data": {
      "text/plain": [
       "numpy.ndarray"
      ]
     },
     "execution_count": 105,
     "metadata": {},
     "output_type": "execute_result"
    }
   ],
   "source": [
    "## numpy\n",
    "\n",
    "\"\"\"\n",
    "\n",
    "In addition to having lots of useful functionality, pandas is FAST.\n",
    "The reason pandas is so fast is that it is s built on top of \n",
    "another package called numpy (numerical python) which provides \n",
    "an interface to numeric vector / matrix analysis\n",
    "\n",
    "numpy is the fundamental package of scientific computing in python and\n",
    "alongside the scipy (scientific python) is extremely powerful\n",
    "\n",
    "\"\"\"\n",
    "\n",
    "## columns of data in pandas are stored as numpy \"ndarrays\"\n",
    "\n",
    "\n",
    "weather_df[\"avg_temp\"].values #EXTRACT THE DATA FROM a PANDAS TABLE\n",
    "#type(weather_df[\"avg_temp\"].values)\n",
    "\n"
   ]
  },
  {
   "cell_type": "code",
   "execution_count": null,
   "metadata": {
    "code_folding": []
   },
   "outputs": [],
   "source": [
    "## numpy ndarrays\n",
    "\n",
    "\"\"\"\n",
    "numpy ndarrays are n-dimensional homogeneous arrays \n",
    "\n",
    "homogenoous meaning only one type of data can be stored \n",
    "in any individual array (e.g. a float or an integer)\n",
    "\n",
    "n-dimensional meaning they can have any dimension, \n",
    "\n",
    "e.g.\n",
    "\"\"\""
   ]
  },
  {
   "cell_type": "markdown",
   "metadata": {},
   "source": [
    "![numpy](resources/numpy_arrays.png)"
   ]
  },
  {
   "cell_type": "code",
   "execution_count": 106,
   "metadata": {
    "code_folding": []
   },
   "outputs": [
    {
     "name": "stdout",
     "output_type": "stream",
     "text": [
      "[1, 3, 5, 1, 3, 3, 3]\n",
      "[1 3 5 1 3 3 3]\n",
      "<class 'list'>\n",
      "<class 'numpy.ndarray'>\n"
     ]
    }
   ],
   "source": [
    "## creating numpy arrays\n",
    "\n",
    "#import numpy\n",
    "import numpy as np\n",
    "\n",
    "#create a new numpy array from a list\n",
    "x = [1,3,5,1,3,3,3]\n",
    "y = np.array(x)\n",
    "\n",
    "# the list and the array look similar when we print them\n",
    "print(x) \n",
    "print(y)\n",
    "\n",
    "# but the objects are different underneath\n",
    "print(type(x))\n",
    "print(type(y)) \n"
   ]
  },
  {
   "cell_type": "code",
   "execution_count": 107,
   "metadata": {
    "code_folding": []
   },
   "outputs": [
    {
     "name": "stdout",
     "output_type": "stream",
     "text": [
      "[[  1   2   4]\n",
      " [ 19   3   1]\n",
      " [  9  13 100]]\n"
     ]
    }
   ],
   "source": [
    "## creating numpy arrays cont...\n",
    "\n",
    "# creating a 2d array from a list of lists\n",
    "#a 2d array is a matrix!\n",
    "\n",
    "x = np.array([[1,2,4],[19,3,1],[9,13,100]])\n",
    "print(x)\n"
   ]
  },
  {
   "cell_type": "code",
   "execution_count": 108,
   "metadata": {
    "code_folding": []
   },
   "outputs": [
    {
     "name": "stdout",
     "output_type": "stream",
     "text": [
      "3\n",
      "[1 2 4]\n",
      "[ 1 19  9]\n"
     ]
    }
   ],
   "source": [
    "## accessing array elements\n",
    "\n",
    "\"\"\"\n",
    "we can use an extension of standard python list \n",
    "indexing to access individual elements or subsets\n",
    "of the matrix\n",
    "\"\"\"\n",
    "\n",
    "print(x[1,1])\n",
    "print(x[0,:])\n",
    "print(x[:,0])"
   ]
  },
  {
   "cell_type": "markdown",
   "metadata": {},
   "source": [
    "![](resources/array_indexing.jpg)"
   ]
  },
  {
   "cell_type": "code",
   "execution_count": 109,
   "metadata": {
    "code_folding": []
   },
   "outputs": [
    {
     "name": "stdout",
     "output_type": "stream",
     "text": [
      "ones [1. 1. 1. 1. 1.]\n",
      "arange [0 1 2 3 4]\n",
      "linspace [0.   0.25 0.5  0.75 1.  ]\n",
      "random [0.28 0.95 0.72]\n",
      "list based [2 3 5]\n"
     ]
    }
   ],
   "source": [
    "## other ways to create arrays\n",
    "\n",
    "print(\"ones\", np.ones(5))\n",
    "print(\"arange\", np.arange(5))\n",
    "print(\"linspace\", np.linspace(0., 1., 5))\n",
    "print(\"random\", np.random.uniform(size=3))\n",
    "print(\"list based\", np.array([2, 3, 5]))"
   ]
  },
  {
   "cell_type": "code",
   "execution_count": 110,
   "metadata": {
    "code_folding": []
   },
   "outputs": [
    {
     "name": "stdout",
     "output_type": "stream",
     "text": [
      "[[0 1]\n",
      " [2 3]]\n"
     ]
    }
   ],
   "source": [
    "## reshaping arrays\n",
    "\n",
    "print(np.arange(4).reshape([2,2]))"
   ]
  },
  {
   "cell_type": "code",
   "execution_count": 111,
   "metadata": {
    "code_folding": []
   },
   "outputs": [
    {
     "name": "stdout",
     "output_type": "stream",
     "text": [
      "[1. 1. 1. 1. 1.]\n",
      "[[0. 0. 0. 0. 0.]\n",
      " [0. 0. 0. 0. 0.]\n",
      " [0. 0. 0. 0. 0.]\n",
      " [0. 0. 0. 0. 0.]\n",
      " [0. 0. 0. 0. 0.]]\n",
      "(5,)\n",
      "(5, 5)\n"
     ]
    }
   ],
   "source": [
    "## inspecting numpy arrays\n",
    "\n",
    "\"\"\"\n",
    "looking at the shape of arrays\n",
    "\"\"\"\n",
    "\n",
    "x=np.ones(5)\n",
    "y=np.zeros([5,5])\n",
    "\n",
    "print(x)\n",
    "print(y)\n",
    "\n",
    "print(x.shape)\n",
    "print(y.shape)\n",
    "\n"
   ]
  },
  {
   "cell_type": "code",
   "execution_count": 112,
   "metadata": {
    "code_folding": []
   },
   "outputs": [
    {
     "name": "stdout",
     "output_type": "stream",
     "text": [
      "y: [1 2 3 4 5 6 7 8 9]\n",
      "1/y: [1.   0.5  0.33 0.25 0.2  0.17 0.14 0.12 0.11]\n",
      "5*y: [ 5 10 15 20 25 30 35 40 45]\n",
      "log(y): [0.   0.69 1.1  1.39 1.61 1.79 1.95 2.08 2.2 ]\n"
     ]
    }
   ],
   "source": [
    "## simple ndarray manipulations\n",
    "\n",
    "##*** THIS CODE IS JUST TO MAKE THE OUT EASIER TO READ **\n",
    "np.set_printoptions(precision=2,suppress=False)\n",
    "##***\n",
    "\n",
    "y = np.arange(1,10)\n",
    "\n",
    "print(\"y:\",y)\n",
    "print(\"1/y:\",1/y)\n",
    "print(\"5*y:\", 5*y)\n",
    "print(\"log(y):\", np.log(y))\n"
   ]
  },
  {
   "cell_type": "code",
   "execution_count": 115,
   "metadata": {
    "code_folding": []
   },
   "outputs": [
    {
     "name": "stdout",
     "output_type": "stream",
     "text": [
      "x: [0 1 2 3 4 5 6 7 8 9]\n",
      "y: [0.28 0.22 1.   0.58 0.34 0.59 0.34 0.74 0.29 0.58]\n",
      "y+x: [0.28 1.22 3.   3.58 4.34 5.59 6.34 7.74 8.29 9.58]\n",
      "y*x: [0.   0.22 2.   1.75 1.35 2.96 2.06 5.18 2.32 5.24]\n",
      "x**x: [0.   1.   2.   1.9  1.6  2.6  1.85 4.22 1.83 3.59]\n"
     ]
    },
    {
     "data": {
      "text/plain": [
       "array([0.  , 1.  , 2.  , 3.  , 4.  , 5.  , 6.  , 7.  , 8.  , 9.  , 0.28,\n",
       "       0.22, 1.  , 0.58, 0.34, 0.59, 0.34, 0.74, 0.29, 0.58])"
      ]
     },
     "execution_count": 115,
     "metadata": {},
     "output_type": "execute_result"
    }
   ],
   "source": [
    "## element wise operations and \n",
    "\n",
    "\"\"\"\n",
    "ndarrays of the same size can be added, subtracted, etc\n",
    "in an element wise fashion\n",
    "\n",
    "\"\"\"\n",
    "\n",
    "x = np.arange(10)\n",
    "y = np.random.uniform(size=10)\n",
    "\n",
    "print(\"x:\",x)\n",
    "print(\"y:\",y)\n",
    "\n",
    "print(\"y+x:\", y+x)\n",
    "print(\"y*x:\", y*x)\n",
    "print(\"x**x:\", x**y)\n",
    "#np.r_[x,y]"
   ]
  },
  {
   "cell_type": "code",
   "execution_count": 116,
   "metadata": {
    "code_folding": []
   },
   "outputs": [
    {
     "name": "stdout",
     "output_type": "stream",
     "text": [
      "[[0 1]\n",
      " [2 3]]\n",
      "element wise multiplication\n",
      "[[0 1]\n",
      " [4 9]]\n",
      "matrix multiplication\n",
      "[[ 2  3]\n",
      " [ 6 11]]\n"
     ]
    }
   ],
   "source": [
    "## matrix math\n",
    "\n",
    "#reshape \n",
    "x = np.arange(4).reshape([2,2])\n",
    "\n",
    "print(x)\n",
    "\n",
    "print(\"element wise multiplication\")\n",
    "print(x*x)\n",
    "\n",
    "print(\"matrix multiplication\")\n",
    "print(np.matmul(x,x))"
   ]
  },
  {
   "cell_type": "markdown",
   "metadata": {},
   "source": [
    "## aggregation functions\n",
    "\n",
    "| Function Name | NaN-safe Version | Description                               |\n",
    "|---------------|------------------|-------------------------------------------|\n",
    "| np.sum        | np.nansum        | Compute sum of elements                   |\n",
    "| np.prod       | np.nanprod       | Compute product of elements               |\n",
    "| np.mean       | np.nanmean       | Compute mean of elements                  |\n",
    "| np.std        | np.nanstd        | Compute standard deviation                |\n",
    "| np.var        | np.nanvar        | Compute variance                          |\n",
    "| np.min        | np.nanmin        | Find minimum value                        |\n",
    "| np.max        | np.nanmax        | Find maximum value                        |\n",
    "| np.argmin     | np.nanargmin     | Find index of minimum value               |\n",
    "| np.argmax     | np.nanargmax     | Find index of maximum value               |\n",
    "| np.median     | np.nanmedian     | Compute median of elements                |\n",
    "| np.percentile | np.nanpercentile | Compute rank-based statistics of elements |\n",
    "| np.any        | N/A              | Evaluate whether any elements are true    |\n",
    "| np.all        | N/A              | Evaluate whether all elements are true    |"
   ]
  },
  {
   "cell_type": "code",
   "execution_count": 117,
   "metadata": {
    "code_folding": []
   },
   "outputs": [
    {
     "name": "stdout",
     "output_type": "stream",
     "text": [
      "mean: 49.5\n",
      "sum: 4950\n"
     ]
    }
   ],
   "source": [
    "## aggregation functions on ndarrays\n",
    "\n",
    "x = np.arange(100)\n",
    "\n",
    "print(\"mean:\", np.mean(x))\n",
    "print(\"sum:\", np.sum(x))"
   ]
  },
  {
   "cell_type": "code",
   "execution_count": 118,
   "metadata": {
    "code_folding": []
   },
   "outputs": [
    {
     "name": "stdout",
     "output_type": "stream",
     "text": [
      "[0 1 2 3 4 5 6 7 8 9]\n",
      "[ True  True  True  True False False False False False False]\n",
      "[0 1 2 3]\n",
      "[0 1 2 3]\n",
      "[0 1 2 3 8 9]\n"
     ]
    }
   ],
   "source": [
    "## boolean indexing\n",
    "\"\"\"\n",
    "we can subset arrays using boolean logic which is extremely useful\n",
    "\n",
    "\"\"\"\n",
    "\n",
    "\n",
    "x = np.arange(10)\n",
    "\n",
    "x_lt_4 = x<4\n",
    "\n",
    "print(x)\n",
    "print(x_lt_4)\n",
    "print(x[x_lt_4])\n",
    "print(x[x<4])\n",
    "\n",
    "print(x[(x<4)|(x>7)])\n"
   ]
  },
  {
   "cell_type": "code",
   "execution_count": 119,
   "metadata": {
    "code_folding": []
   },
   "outputs": [
    {
     "name": "stdout",
     "output_type": "stream",
     "text": [
      "853 µs ± 74.9 µs per loop (mean ± std. dev. of 7 runs, 1000 loops each)\n",
      "7.85 µs ± 394 ns per loop (mean ± std. dev. of 7 runs, 100000 loops each)\n"
     ]
    }
   ],
   "source": [
    "## numpy is FAST!\n",
    "\n",
    "\"\"\"\n",
    "operations on numpy arrays are SUPER fast\n",
    "for example, let's compare summing 10000 random numbers \n",
    "using numpy or a simple python list\n",
    "\"\"\"\n",
    "\n",
    "big_array = np.random.rand(10000)\n",
    "big_list = list(big_array)\n",
    "\n",
    "%timeit sum(big_list) # sum is the built in pythonsum function\n",
    "%timeit np.sum(big_array)"
   ]
  },
  {
   "cell_type": "code",
   "execution_count": 120,
   "metadata": {
    "code_folding": []
   },
   "outputs": [
    {
     "data": {
      "text/plain": [
       "(array([  1.,   5.,  13.,  21.,  78., 100., 167., 181., 181., 146.,  64.,\n",
       "         24.,  17.,   2.,   0.]),\n",
       " array([-0.5,  0.5,  1.5,  2.5,  3.5,  4.5,  5.5,  6.5,  7.5,  8.5,  9.5,\n",
       "        10.5, 11.5, 12.5, 13.5, 14.5]),\n",
       " <a list of 15 Patch objects>)"
      ]
     },
     "execution_count": 120,
     "metadata": {},
     "output_type": "execute_result"
    },
    {
     "data": {
      "image/png": "[encoded data removed]",
      "text/plain": [
       "<Figure size 432x288 with 1 Axes>"
      ]
     },
     "metadata": {
      "needs_background": "light"
     },
     "output_type": "display_data"
    }
   ],
   "source": [
    "## So much more!\n",
    "\"\"\"\n",
    "\n",
    "we are just scratching the surface of what \n",
    "numpy can do!\n",
    "\n",
    "\n",
    "for example: let's take a a look at some of the \n",
    "capability of the random module of numpy\n",
    "\n",
    "https://docs.scipy.org/doc/numpy-1.14.0/reference/routines.random.html\n",
    "https://docs.scipy.org/doc/scipy/reference/\n",
    "\n",
    "\"\"\"\n",
    "import matplotlib.pyplot as plt\n",
    "\n",
    "#draw n samples from a binomial distribution with probability p\n",
    "# np.random.binomial(n ,p , k draws)\n",
    "\n",
    "binomial_draws = np.random.binomial(10, 0.4, 1000)\n",
    "normal_draws = np.random.normal(7, 2, 1000)\n",
    "\n",
    "#plotting code\n",
    "unit_bins = np.arange(0 - 0.5, 15 + 0.5)\n",
    "plt.hist(binomial_draws, bins=unit_bins, ec=\"white\")\n",
    "plt.hist(normal_draws, bins=unit_bins, ec=\"white\",alpha=.6)\n"
   ]
  },
  {
   "cell_type": "code",
   "execution_count": null,
   "metadata": {},
   "outputs": [],
   "source": [
    "## CHEAT SHEETS AND SUPER ADVANCED\n",
    "\n"
   ]
  }
 ],
 "metadata": {
  "kernelspec": {
   "display_name": "Python 3",
   "language": "python",
   "name": "python3"
  },
  "language_info": {
   "codemirror_mode": {
    "name": "ipython",
    "version": 3
   },
   "file_extension": ".py",
   "mimetype": "text/x-python",
   "name": "python",
   "nbconvert_exporter": "python",
   "pygments_lexer": "ipython3",
   "version": "3.7.4"
  }
 },
 "nbformat": 4,
 "nbformat_minor": 4
}
