{
 "cells": [
  {
   "cell_type": "markdown",
   "metadata": {},
   "source": [
    "# Python Basics I\n",
    "\n",
    "## Printing and Commenting"
   ]
  },
  {
   "cell_type": "code",
   "execution_count": 1,
   "metadata": {
    "code_folding": []
   },
   "outputs": [
    {
     "name": "stdout",
     "output_type": "stream",
     "text": [
      "hello! this is your first python program\n"
     ]
    }
   ],
   "source": [
    "#Your first python program!\n",
    "\n",
    "\"\"\"\n",
    "this is your first python program!\n",
    "it doesn't do much... \n",
    "\"\"\"\n",
    "\n",
    "print(\"hello! this is your first python program\")"
   ]
  },
  {
   "cell_type": "code",
   "execution_count": 2,
   "metadata": {
    "code_folding": []
   },
   "outputs": [
    {
     "name": "stdout",
     "output_type": "stream",
     "text": [
      "this code is run\n",
      "a # inside quotes is just fine though\n"
     ]
    }
   ],
   "source": [
    "## code can be commented either by prefixing a line with a #\n",
    "\n",
    "\"\"\"\n",
    "or by inserting multiple lines of text \n",
    "in between triple quotation blocks like this\n",
    "\"\"\"\n",
    "\n",
    "print(\"this code is run\") #the code before this comment is run\n",
    "\n",
    "#print(\"this code is not run\")\n",
    "\n",
    "print(\"a # inside quotes is just fine though\")"
   ]
  },
  {
   "cell_type": "code",
   "execution_count": 3,
   "metadata": {
    "code_folding": [],
    "scrolled": false
   },
   "outputs": [
    {
     "name": "stdout",
     "output_type": "stream",
     "text": [
      "we can print out numbers too like 51 or 42\n"
     ]
    }
   ],
   "source": [
    "## printing multiple things\n",
    "\n",
    "\"\"\"\n",
    "The print function can take in multiple arguemnts and will\n",
    "concatenate the string separated by spaces\n",
    "\"\"\"\n",
    "\n",
    "print(\"we can print out numbers too like\", 51, \"or\", 42)"
   ]
  },
  {
   "cell_type": "markdown",
   "metadata": {},
   "source": [
    "## Simple math, variables, and logic"
   ]
  },
  {
   "cell_type": "code",
   "execution_count": 4,
   "metadata": {
    "code_folding": []
   },
   "outputs": [
    {
     "name": "stdout",
     "output_type": "stream",
     "text": [
      "13*2 = 26\n",
      "13+2 = 15\n",
      "30/2 = 15.0\n"
     ]
    }
   ],
   "source": [
    "# 1 simple math and variables\n",
    "\"\"\"\n",
    "Math is pretty straightforward in python3\n",
    "\n",
    "we can use all the normal symbols\n",
    "\n",
    "+: plus\n",
    "-: minus\n",
    "/: divide\n",
    "*: times\n",
    "%: modulo\n",
    "<: less than\n",
    ">: greater than\n",
    "<=: less than or equal to\n",
    ">=: greater than or equal to\n",
    "\n",
    "==: equivalence\n",
    "!=: non-equivalence\n",
    "\n",
    "https://docs.python.org/3/library/stdtypes.html#numeric-types-int-float-complex\n",
    "\n",
    "\"\"\"\n",
    "print(\"13*2 =\", 13*2)\n",
    "print(\"13+2 =\", 13+2)\n",
    "print(\"30/2 =\", 30/2)"
   ]
  },
  {
   "cell_type": "code",
   "execution_count": 5,
   "metadata": {
    "code_folding": []
   },
   "outputs": [
    {
     "name": "stdout",
     "output_type": "stream",
     "text": [
      "<class 'int'>\n",
      "<class 'float'>\n",
      "True\n"
     ]
    }
   ],
   "source": [
    "## floats vs integers\n",
    "\n",
    "print(type(13+2)) \n",
    "print(type(30/2))\n",
    "print((30/2)==(13+2)) # fortunately python is smart enough to compare integers and floats\n"
   ]
  },
  {
   "cell_type": "code",
   "execution_count": 6,
   "metadata": {
    "code_folding": []
   },
   "outputs": [
    {
     "name": "stdout",
     "output_type": "stream",
     "text": [
      "1 0 1 0\n"
     ]
    }
   ],
   "source": [
    "## the modulo operator\n",
    "\"\"\"\n",
    "# the '%' modulo operator gives the remainder \n",
    "e.g. 10 % 4 = 2 , the remainder of 10/4 is 2 \n",
    "useful for finding even / odd numbers or counting by \"k\"\n",
    "\"\"\"\n",
    "\n",
    "print(1%2, 2%2, 3%2, 4%2) \n"
   ]
  },
  {
   "cell_type": "code",
   "execution_count": 7,
   "metadata": {
    "code_folding": []
   },
   "outputs": [
    {
     "name": "stdout",
     "output_type": "stream",
     "text": [
      "7.5\n"
     ]
    }
   ],
   "source": [
    "## Variables\n",
    "\"\"\"\n",
    "variables can be assigned with the \"=\" operator\n",
    "\"\"\"\n",
    "\n",
    "x=5\n",
    "y=3\n",
    "z=x*y/2\n",
    "print(z)"
   ]
  },
  {
   "cell_type": "code",
   "execution_count": 8,
   "metadata": {
    "code_folding": []
   },
   "outputs": [
    {
     "name": "stdout",
     "output_type": "stream",
     "text": [
      "2\n",
      "3\n",
      "4\n"
     ]
    }
   ],
   "source": [
    "## The += operator\n",
    "\n",
    "\"\"\"\n",
    "The operation of adding incrementing a number by some fixed value\n",
    "e.g. by 1, is so commonn that there is a shorthand for it\n",
    "\n",
    "+=x : increment by x\n",
    "\"\"\"\n",
    "\n",
    "x=2\n",
    "print(x)\n",
    "x=x+1\n",
    "print(x)\n",
    "x+=1\n",
    "print(x)"
   ]
  },
  {
   "cell_type": "code",
   "execution_count": 9,
   "metadata": {
    "code_folding": []
   },
   "outputs": [
    {
     "name": "stdout",
     "output_type": "stream",
     "text": [
      "False\n",
      "True\n",
      "False\n"
     ]
    }
   ],
   "source": [
    "## Assignment versus equivalence\n",
    "\"\"\"\n",
    "it is CRITICAL to understand the difference between \"=\" and \"==\"\n",
    "\"\"\"\n",
    "\n",
    "x=10\n",
    "print(x==5)\n",
    "\n",
    "#print(x=5) This will fail!\n",
    "\n",
    "x=5\n",
    "print(x==5)\n",
    "print(x!=5)"
   ]
  },
  {
   "cell_type": "code",
   "execution_count": 10,
   "metadata": {
    "code_folding": []
   },
   "outputs": [
    {
     "name": "stdout",
     "output_type": "stream",
     "text": [
      "<class 'bool'>\n",
      "False\n",
      "True\n",
      "False\n"
     ]
    }
   ],
   "source": [
    "## Boolean logic\n",
    "\"\"\"\n",
    "simple boolean logic can be performed using english words\n",
    "\"\"\"\n",
    "\n",
    "t = True\n",
    "f = False\n",
    "\n",
    "print(type(t)) # \"<class 'bool'>\"\n",
    "print(t and f) # Logical AND; prints \"False\"\n",
    "print(t or f)  # Logical OR; prints \"True\"\n",
    "print(not t)   # Logical NOT; prints \"False\"\n"
   ]
  },
  {
   "cell_type": "markdown",
   "metadata": {},
   "source": [
    "## Strings"
   ]
  },
  {
   "cell_type": "code",
   "execution_count": 11,
   "metadata": {
    "code_folding": []
   },
   "outputs": [
    {
     "name": "stdout",
     "output_type": "stream",
     "text": [
      "IB201\n",
      "5\n"
     ]
    }
   ],
   "source": [
    "## Strings\n",
    "\n",
    "x = \"IB201\"\n",
    "print(x)\n",
    "print(len(x))  # String length; prints \"5\""
   ]
  },
  {
   "cell_type": "code",
   "execution_count": 15,
   "metadata": {
    "code_folding": []
   },
   "outputs": [
    {
     "name": "stdout",
     "output_type": "stream",
     "text": [
      "IB201 is my number 1 class!\n"
     ]
    }
   ],
   "source": [
    "## String formatting\n",
    "\n",
    "x=\"IB201\"\n",
    "IB201_ranking = 1\n",
    "\n",
    "complex_string = \"{v1} is my number {v2} class!\".format(v1=x, v2=IB201_ranking)\n",
    "\n",
    "print(complex_string)\n",
    "\n"
   ]
  },
  {
   "cell_type": "code",
   "execution_count": 16,
   "metadata": {
    "code_folding": [],
    "scrolled": true
   },
   "outputs": [
    {
     "name": "stdout",
     "output_type": "stream",
     "text": [
      "HELLO\n",
      "he(l)(l)o\n",
      "--TEXT\n",
      "TEXT--\n",
      "TEXT\n",
      "8\n"
     ]
    }
   ],
   "source": [
    "## String operations\n",
    "\"\"\"\n",
    "there are all kinds of operations that can be \n",
    "run on strings that are super helpful\n",
    "\n",
    "https://docs.python.org/3/library/stdtypes.html#string-methods\n",
    "\"\"\"\n",
    "\n",
    "s = \"hello\"\n",
    "print(s.upper())  # Convert a string to uppercase; prints \"HELLO\"\n",
    "print(s.replace('l', '(l)'))  # Replace all instances of one substring with another;\n",
    "print('--TEXT--'.rstrip(\"-\"))  # Strip trailing characters\n",
    "print('--TEXT--'.lstrip(\"-\"))  # Strip leading characters\n",
    "print('--TEXT--'.strip(\"-\"))  # Strip leading and trailing characters\n",
    "print(len('--TEXT--'))  # what is the length of this string?"
   ]
  },
  {
   "cell_type": "code",
   "execution_count": 31,
   "metadata": {
    "code_folding": []
   },
   "outputs": [
    {
     "name": "stdout",
     "output_type": "stream",
     "text": [
      "8.3\n"
     ]
    }
   ],
   "source": [
    "## converting strings to numbers\n",
    "\n",
    "\"\"\"\n",
    "often when we are reading files numbers are encoded as\n",
    "strings. To use these numbers as numbers we need to\n",
    "convert them to floats or integers.\n",
    "\"\"\"\n",
    "\n",
    "string_number = \"5.3\"\n",
    "\n",
    "#print(string_number + 3) # this will fail - you cannot add a string to an integer\n",
    "\n",
    "#print(int(string_number) + 3) # this will fail - 5.3 is not an integer!\n",
    "\n",
    "print(float(string_number) + 3)\n"
   ]
  },
  {
   "cell_type": "markdown",
   "metadata": {},
   "source": [
    "## Containers: lists and dictionaries"
   ]
  },
  {
   "cell_type": "code",
   "execution_count": 19,
   "metadata": {
    "code_folding": []
   },
   "outputs": [
    {
     "name": "stdout",
     "output_type": "stream",
     "text": [
      "[9, 5, 12]\n",
      "[9, 5, 12, 201]\n",
      "201\n",
      "[9, 5, 12]\n",
      "[9, 5, 12, 'asdf']\n"
     ]
    }
   ],
   "source": [
    "#1.4 Containers - lists\n",
    "\"\"\"\n",
    "lists are ordered arrays of elements\n",
    "in some languages this type is called an array\n",
    "\"\"\"\n",
    "\n",
    "xs = [9, 5, 12] # Create a list\n",
    "print(xs)\n",
    "\n",
    "xs.append(201)  # add an element to the end of the list\n",
    "print(xs)\n",
    "\n",
    "element = xs.pop() # pop an element off the end of a list returning it\n",
    "print(element)\n",
    "print(xs)\n",
    "\n",
    "xs.append(\"asdf\")\n",
    "print(xs)"
   ]
  },
  {
   "cell_type": "code",
   "execution_count": 20,
   "metadata": {
    "code_folding": []
   },
   "outputs": [
    {
     "name": "stdout",
     "output_type": "stream",
     "text": [
      "7\n",
      "9\n",
      "9\n"
     ]
    }
   ],
   "source": [
    "## list subsetting\n",
    "\n",
    "xs = [5,7,1,9]\n",
    "print(xs[1])   # indexing starts at 0! (UNLIKE R!!!)\n",
    "\n",
    "print(xs[-1])  # Negative indices count back from the end of a list\n",
    "print(xs[3])\n"
   ]
  },
  {
   "cell_type": "code",
   "execution_count": 21,
   "metadata": {
    "code_folding": []
   },
   "outputs": [
    {
     "name": "stdout",
     "output_type": "stream",
     "text": [
      "[1, 9]\n",
      "[1, 9, 201]\n",
      "[5, 7]\n",
      "[5, 7, 1, 9]\n",
      "[5, 7, 1]\n"
     ]
    }
   ],
   "source": [
    "## list slicing\n",
    "\n",
    "xs = [5, 7, 1, 9, 201]\n",
    "\n",
    "print(xs[2:4]) # Get a slice from index 2 to 4 - exclusive! ie, includes elements 2 and 3, not 4\n",
    "print(xs[2:])  # Get a slice from index 2 to the end; \n",
    "print(xs[:2])  # Get a slice from the start to index 2, doesn't include element 2\n",
    "\n",
    "print(xs[:-1]) # negative slices, all but last element\n",
    "print(xs[:-2]) # negative slices, all but last two elements\n"
   ]
  },
  {
   "cell_type": "code",
   "execution_count": 22,
   "metadata": {
    "code_folding": []
   },
   "outputs": [
    {
     "name": "stdout",
     "output_type": "stream",
     "text": [
      "[5, 7, 1, 9, 201]\n",
      "[5, 1, 201]\n",
      "[7, 9]\n",
      "[201, 9, 1, 7, 5]\n"
     ]
    }
   ],
   "source": [
    "## super slicing\n",
    "\"\"\"\n",
    "    list[start:end:step]\n",
    "\"\"\"\n",
    "\n",
    "xs = [5, 7, 1, 9, 201]\n",
    "\n",
    "\n",
    "print(xs[::])   #the whole list\n",
    "print(xs[::2])  #every second element\n",
    "print(xs[1::2]) #every second element starting at element 1\n",
    "print(xs[::-1]) #reverse the list"
   ]
  },
  {
   "cell_type": "code",
   "execution_count": 23,
   "metadata": {
    "code_folding": []
   },
   "outputs": [
    {
     "name": "stdout",
     "output_type": "stream",
     "text": [
      "False\n",
      "True\n",
      "3\n",
      "1\n",
      "201\n"
     ]
    }
   ],
   "source": [
    "## list operations\n",
    "\n",
    "xs = [5, 7, 1, 9, 201]\n",
    "\n",
    "print(19 in xs)       #is 19 in the list?\n",
    "print(9 in xs)        #is 9 in the  list?  \n",
    "print(xs.index(9))    #where is 9?\n",
    "\n",
    "print(min(xs))        #the minimum element\n",
    "print(max(xs))        #the maximum element\n"
   ]
  },
  {
   "cell_type": "code",
   "execution_count": 26,
   "metadata": {
    "code_folding": []
   },
   "outputs": [
    {
     "name": "stdout",
     "output_type": "stream",
     "text": [
      "[1, 2, 3, 4, 5, 6, 3, 1, 5]\n",
      "[0, 1, 2, 3, 4, 5, 6, 7, 8, 9, 10, 11, 12, 13, 14, 15, 16, 17, 18, 19]\n"
     ]
    }
   ],
   "source": [
    "## list concatenation\n",
    "\n",
    "x1 = [1,2,3]\n",
    "x2 = [4, 5, 6]\n",
    "\n",
    "joined_list = x1 + x2 + [3,1,5]\n",
    "\n",
    "print(joined_list)\n",
    "\n",
    "x3 = list(range(20))\n",
    "print(x3)\n"
   ]
  },
  {
   "cell_type": "code",
   "execution_count": 27,
   "metadata": {},
   "outputs": [
    {
     "name": "stdout",
     "output_type": "stream",
     "text": [
      "[[1, 2, 3], [4, 5, 6]]\n"
     ]
    }
   ],
   "source": [
    "x1 = [1,2,3]\n",
    "x2 = [4, 5, 6]\n",
    "\n",
    "print([x1,x2])"
   ]
  },
  {
   "cell_type": "code",
   "execution_count": 28,
   "metadata": {
    "code_folding": []
   },
   "outputs": [
    {
     "name": "stdout",
     "output_type": "stream",
     "text": [
      "['Debora', 'Miguel', 'Stacy', 'Xu']\n"
     ]
    }
   ],
   "source": [
    "## splitting strings into lists\n",
    "\n",
    "student_names = \"Debora,Miguel,Stacy,Xu\"\n",
    "list_of_names = student_names.split(\",\")\n",
    "print(list_of_names)"
   ]
  },
  {
   "cell_type": "code",
   "execution_count": 10,
   "metadata": {},
   "outputs": [
    {
     "data": {
      "text/plain": [
       "[1, 2, 3, 4, 5, 6, 7, 8]"
      ]
     },
     "execution_count": 10,
     "metadata": {},
     "output_type": "execute_result"
    }
   ],
   "source": [
    "### PRACTICE PROBLEM\n",
    "\n",
    "\"\"\"\n",
    "consider the following lists\n",
    "    a=[1,2,3,4,5] \n",
    "    b=[5,6,7,8]\n",
    "\n",
    "how can we combine these two lists, \n",
    "without double including the 5?\n",
    "    -> [1,2,3,4,5,6,7,8]\n",
    "\n",
    "\"\"\"\n",
    "a=[1,2,3,4,5] \n",
    "b=[5,6,7,8]\n",
    "\n",
    "#a.pop()\n",
    "#a+b\n",
    "\n",
    "#set(a+b)\n",
    "\n",
    "#a[:-1] + b\n"
   ]
  },
  {
   "cell_type": "code",
   "execution_count": 11,
   "metadata": {
    "code_folding": [
     0
    ]
   },
   "outputs": [],
   "source": [
    "#####SECRET CODE#####\n",
    "\"\"\"\n",
    "In this block I am activating a new function to print out dictionaries \n",
    "in a pretty fashion - it's not part of the lesson\n",
    "\"\"\"\n",
    "import json\n",
    "\n",
    "def dprint(d):\n",
    "    print(json.dumps(d,\n",
    "                     sort_keys=True,\n",
    "                     indent=4))\n",
    "\n"
   ]
  },
  {
   "cell_type": "code",
   "execution_count": 17,
   "metadata": {
    "code_folding": []
   },
   "outputs": [
    {
     "name": "stdout",
     "output_type": "stream",
     "text": [
      "{\n",
      "    \"first_name\": \"Jane\",\n",
      "    \"last_name\": \"dough\",\n",
      "    \"student_ID\": 201201\n",
      "}\n",
      "201201\n",
      "{\n",
      "    \"first_name\": \"Jane\",\n",
      "    \"grade\": \"A+\",\n",
      "    \"last_name\": \"dough\",\n",
      "    \"student_ID\": 201201\n",
      "}\n"
     ]
    }
   ],
   "source": [
    "## START HERE\n",
    "\n",
    "#1.5 Containers - Dictionaries\n",
    "\n",
    "\"\"\"\n",
    "Dictionaries hold key:value pairs\n",
    "\n",
    "in some languages these are called \"hash tables\"\n",
    "\n",
    "*** NOTE I HAVE DEFINED A FUNCTION CALLED dprint above which \n",
    "allows us to print pretty dictionaries that are easier to look at\n",
    "the print() function works just fine too - we will learn more about\n",
    "functions at a later date so you can ignore that code for now***\n",
    "\n",
    "\"\"\"\n",
    "\n",
    "#dictionaries can store a mixture of different \"types\"\n",
    "\n",
    "student_info_dict = {\"student_ID\": 201201, \n",
    "                     \"first_name\": \"Jane\",\n",
    "                     \"last_name\": \"dough\"} \n",
    "\n",
    "#note here also that you can continue writing on the next line\n",
    "\n",
    "dprint(student_info_dict)\n",
    "print(student_info_dict[\"student_ID\"])\n",
    "\n",
    "student_info_dict[\"grade\"] = \"A+\"\n",
    "#student_info_dict[1] = \"A+\" #broken\n",
    "dprint(student_info_dict)"
   ]
  },
  {
   "cell_type": "code",
   "execution_count": 18,
   "metadata": {
    "code_folding": []
   },
   "outputs": [
    {
     "name": "stdout",
     "output_type": "stream",
     "text": [
      "[\n",
      "    {\n",
      "        \"first_name\": \"Jane\",\n",
      "        \"last_name\": \"Dough\",\n",
      "        \"student_ID\": 201201\n",
      "    },\n",
      "    {\n",
      "        \"first_name\": \"Jake\",\n",
      "        \"last_name\": \"Lee\",\n",
      "        \"student_ID\": 2\n",
      "    },\n",
      "    {\n",
      "        \"first_name\": \"Manju\",\n",
      "        \"last_name\": \"Smith\",\n",
      "        \"student_ID\": 3\n",
      "    }\n",
      "]\n"
     ]
    }
   ],
   "source": [
    "## combining lists and dictionaries\n",
    "\n",
    "s1 = {\"student_ID\": 201201, \n",
    "      \"first_name\": \"Jane\",\n",
    "      \"last_name\": \"Dough\"}\n",
    "\n",
    "s2 = {\"student_ID\": 2, \n",
    "      \"first_name\": \"Jake\",\n",
    "      \"last_name\": \"Lee\"}\n",
    "\n",
    "s3 = {\"student_ID\": 3, \n",
    "      \"first_name\": \"Manju\",\n",
    "      \"last_name\": \"Smith\"}\n",
    "\n",
    "students = [s1,s2,s3]\n",
    "\n",
    "dprint(students)\n"
   ]
  },
  {
   "cell_type": "code",
   "execution_count": 21,
   "metadata": {
    "code_folding": []
   },
   "outputs": [
    {
     "name": "stdout",
     "output_type": "stream",
     "text": [
      "{\n",
      "    \"2\": {\n",
      "        \"first_name\": \"Jake\",\n",
      "        \"last_name\": \"Dunn\",\n",
      "        \"student_ID\": 2\n",
      "    },\n",
      "    \"31\": {\n",
      "        \"first_name\": \"Mary\",\n",
      "        \"last_name\": \"Claire\",\n",
      "        \"student_ID\": 3\n",
      "    },\n",
      "    \"201201\": {\n",
      "        \"first_name\": \"Jane\",\n",
      "        \"last_name\": \"dough\",\n",
      "        \"student_ID\": 201201\n",
      "    }\n",
      "}\n"
     ]
    }
   ],
   "source": [
    "## dictionaries of dictionaries\n",
    "\n",
    "s1 = {\"student_ID\": 201201, \n",
    "      \"first_name\": \"Jane\",\n",
    "      \"last_name\": \"dough\"}\n",
    "\n",
    "s2 = {\"student_ID\": 2, \n",
    "      \"first_name\": \"Jake\",\n",
    "      \"last_name\": \"Dunn\"}\n",
    "\n",
    "s3 = {\"student_ID\": 3, \n",
    "      \"first_name\": \"Mary\",\n",
    "      \"last_name\": \"Claire\"}\n",
    "\n",
    "students_by_id = {201201:s1,\n",
    "                  2:s2,\n",
    "                  31:s3}\n",
    "\n",
    "dprint(students_by_id)"
   ]
  },
  {
   "cell_type": "code",
   "execution_count": 23,
   "metadata": {
    "code_folding": []
   },
   "outputs": [
    {
     "name": "stdout",
     "output_type": "stream",
     "text": [
      "{\n",
      "    \"first_name\": \"Mary\",\n",
      "    \"last_name\": \"Claire\",\n",
      "    \"student_ID\": 3\n",
      "}\n"
     ]
    }
   ],
   "source": [
    "## dictionaries of dictionaries\n",
    "\"\"\"\n",
    "dictionaries are very useful ways to store data\n",
    "\"\"\"\n",
    "dprint(students_by_id[31])"
   ]
  },
  {
   "cell_type": "markdown",
   "metadata": {},
   "source": [
    "## Practice Problems"
   ]
  },
  {
   "cell_type": "code",
   "execution_count": null,
   "metadata": {
    "code_folding": []
   },
   "outputs": [],
   "source": [
    "## PRACTICE PROBLEMS\n",
    "\n",
    "\"\"\"\n",
    "consider the following lists\n",
    "    a=[1,2,3,4,5] \n",
    "    b=[5,6,7,8]\n",
    "\n",
    "how could use create the list [1,2,3,4,5,6,7,8]?\n",
    "\n",
    "how about [8, 7, 6, 5, 4, 3, 2, 1]?\n",
    "\n",
    "you have a list of genes names and their IDs, \n",
    "    \"FOS1\",92231\n",
    "    \"JUN\",2313\n",
    "    \"BERP\",2313\n",
    "    etc...\n",
    "\n",
    "Given a set of gene IDs, how could you easily pull out which gene \n",
    "names correspond to which IDs?\n",
    "\n",
    "\"\"\"\n"
   ]
  }
 ],
 "metadata": {
  "kernelspec": {
   "display_name": "Python 3",
   "language": "python",
   "name": "python3"
  },
  "language_info": {
   "codemirror_mode": {
    "name": "ipython",
    "version": 3
   },
   "file_extension": ".py",
   "mimetype": "text/x-python",
   "name": "python",
   "nbconvert_exporter": "python",
   "pygments_lexer": "ipython3",
   "version": "3.7.4"
  }
 },
 "nbformat": 4,
 "nbformat_minor": 4
}
