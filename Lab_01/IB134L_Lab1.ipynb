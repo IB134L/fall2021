{
 "cells": [
  {
   "cell_type": "markdown",
   "metadata": {},
   "source": [
    "# Lab 01"
   ]
  },
  {
   "cell_type": "markdown",
   "metadata": {},
   "source": [
    "Welcome to the Jupyter notebook interface! This is where we'll be doing a lot of the Python programming in this course.\n",
    "\n",
    "Since knowing Python is not a prerequisite for this course, we do not assume prior knowledge. If you're new to Python or programming in general, rest assured that we will be covering basics of Python coding. Today, we've already input many scripts into cells, so all you have to do is run them and see what happens! "
   ]
  },
  {
   "cell_type": "markdown",
   "metadata": {},
   "source": [
    "## How Jupyter notebooks work\n",
    "\n",
    "Take a look at the upper right hand corner of the window: among other things, you'll see a line that says \"Python3 (ipykernel)\".\n",
    "\n",
    "Jupyter notebooks are connected to different modules called **kernels**, which enable use of different coding languages. For example, iPython (ipykernel) is a kernel that can interpret and execute code written in the Python programming language. If we want to write code in a different language (which we'll be doing in coming weeks), we can  switch the kernel we're using with our notebook. Everything else about the notebook's interface stays the same – this is handy for us, since it means we won't have to spend too much time teaching you how to use different programs.\n",
    "\n",
    "Let's set aside this concept of kernels for now and move on to a more exciting task: editing and writing code."
   ]
  },
  {
   "cell_type": "markdown",
   "metadata": {},
   "source": [
    "## Annotating and printing"
   ]
  },
  {
   "cell_type": "markdown",
   "metadata": {},
   "source": [
    "The gray boxes in Jupyter notebooks are called **code cells**, or just \"cells\" for short. Cells form the important part of our Jupyter notebooks: they contain the code to be executed in the kernel, and also display the output of the code after it’s run.\n",
    "\n",
    "However, before we get started with editing and writing code, it’s important to introduce our two ways of annotating code in a cell. Annotating means explaining what the code is, or what it does. Good code should be well  annotated so you know exactly what everything is and why it’s there!\n",
    "\n",
    "Below is our first code cell: read the contents carefully!"
   ]
  },
  {
   "cell_type": "code",
   "execution_count": null,
   "metadata": {},
   "outputs": [],
   "source": [
    "# This is a \"comment\": programmers use comments to annotate their code.\n",
    "# Notice how this line starts with a hashtag/hash mark (#): this is what makes it a comment.\n",
    "\n",
    "\"\"\"\n",
    "You can also use three double quotes before and after text to create blocks of commented text.\n",
    "This can be useful if you'd like to write multiple lines without putting a # at the beginning\n",
    "of each line.\n",
    "\n",
    "Below, the print function below will print the text in parentheses to the output of the code cell.\n",
    "\"\"\"\n",
    "\n",
    "print(\"Comments aren't visible in the output of the code cell: they're just for the reader!\")\n",
    "# print(\"That means that this bit of code won't actually run!\")\n",
    "print(\"You can put comments in between or after lines of code, and they won't be visible.\") # Look, no comment!"
   ]
  },
  {
   "cell_type": "markdown",
   "metadata": {},
   "source": [
    "Let’s go ahead and run the above cell to see what comes out. To run the code in this cell, select the cell so it is  highlighted. Then you can do either of three things: \n",
    "1. Press Ctrl+Enter (On Mac it’s Command + Enter!) \n",
    "2. Press “Run” in the menu  \n",
    "3. Select the cell and click Cell > Run Cells \n",
    "\n",
    "You should see only three lines printed out right below the code cell. In this manner, comments can be handily included as human-readable guides for what the code is intended to do. Again, this is super important: writing good code is one thing, remembering what it does and why is another.\n",
    "\n"
   ]
  },
  {
   "cell_type": "markdown",
   "metadata": {},
   "source": [
    "## Q1: Intro to code cells\n",
    "\n",
    "(Any time you see a header with a \"Q\" in it, refer to the Gradescope worksheet for the corresponding question!)\n",
    "\n",
    "Let’s try editing some code! Double click the cell below to begin editing it, then replace the XXXX with your favorite animal and run the cell again! \n"
   ]
  },
  {
   "cell_type": "code",
   "execution_count": null,
   "metadata": {
    "code_folding": []
   },
   "outputs": [],
   "source": [
    "print(\"my favorite animal is XXXX\")"
   ]
  },
  {
   "cell_type": "markdown",
   "metadata": {},
   "source": [
    "You may notice that the “In [ ]” value changes after each time the code is executed. This value can be used to help you keep track of when the cell was run on the kernel: the \"In\" stands for \"Input\"."
   ]
  },
  {
   "cell_type": "markdown",
   "metadata": {},
   "source": [
    "##  Q2: Working with comments\n",
    "Let’s continue interrogating the function of the hashtag # (otherwise known as number sign, hash, or pound sign). As we've established, besides connecting you to your favorite trends in social media, hashtags can help you annotate code.  \n",
    "\n",
    "In the next cell, we see several different animals. Run the cell. Which animals actually show as the output? "
   ]
  },
  {
   "cell_type": "code",
   "execution_count": null,
   "metadata": {
    "code_folding": []
   },
   "outputs": [],
   "source": [
    "## code can be commented either by prefixing a line with a #\n",
    "\n",
    "\"\"\"\n",
    "or by inserting multiple lines of text \n",
    "in between triple quotation blocks like this\n",
    "\"\"\"\n",
    "\n",
    "print(\"lizard\") #turtle\n",
    "\n",
    "#print(\"hummingbird\")\n",
    "\n",
    "print(\"#doggy\")"
   ]
  },
  {
   "cell_type": "markdown",
   "metadata": {},
   "source": [
    "Just to cement what we've already learned, try changing the code such that all four animals are printed."
   ]
  },
  {
   "cell_type": "markdown",
   "metadata": {},
   "source": [
    "# Simple math, variables, and logic\n",
    "\n",
    "The next few cells describe simple math, variables and logic syntax as implemented in Python.  Read through and run these carefully to get a feel for how to use simple symbols and some  functions in Python. Some might be particularly confusing, such as the modulo operator and +=.  "
   ]
  },
  {
   "cell_type": "code",
   "execution_count": null,
   "metadata": {
    "code_folding": []
   },
   "outputs": [],
   "source": [
    "# 1 simple math and variables\n",
    "\"\"\"\n",
    "Math is pretty straightforward in python3\n",
    "\n",
    "we can use all the normal symbols\n",
    "\n",
    "+: plus\n",
    "-: minus\n",
    "/: divide\n",
    "*: times\n",
    "%: modulo\n",
    "<: less than\n",
    ">: greater than\n",
    "<=: less than or equal to\n",
    ">=: greater than or equal to\n",
    "\n",
    "==: equivalence\n",
    "!=: non-equivalence\n",
    "\n",
    "https://docs.python.org/3/library/stdtypes.html#numeric-types-int-float-complex\n",
    "\n",
    "\"\"\"\n",
    "print(\"13*2 =\", 13*2) # notice how print concatenates the items inside the parentheses?\n",
    "print(\"13+2 =\", 13+2)\n",
    "print(\"30/2 =\", 30/2)\n"
   ]
  },
  {
   "cell_type": "markdown",
   "metadata": {},
   "source": [
    "## Q3: Integers and floats"
   ]
  },
  {
   "cell_type": "markdown",
   "metadata": {},
   "source": [
    "There are two *numeric* data types: **integers** and **floats**. You can think of integers as, well, integers, and floats as decimal point containing numbers."
   ]
  },
  {
   "cell_type": "code",
   "execution_count": null,
   "metadata": {
    "code_folding": []
   },
   "outputs": [],
   "source": [
    "\"\"\"\n",
    "integers and floats are two different kinds of numerical data\n",
    "an integer (or int) is a number without a decimal point, e.g. 69, 9000\n",
    "A float is a floating-pt number, which means it has a decimal place.\n",
    "Floats are used when more precision is needed.\n",
    "\"\"\"\n",
    "\n",
    "100.0 # a float\n",
    "42 # an integer\n",
    "\n",
    "\"\"\"\n",
    "In order to identify the type of numerical data,\n",
    "you can use the function type().\n",
    "You can combine the print() and type() function to print out\n",
    "TYPES of data. Ready?\n",
    "\"\"\"\n",
    "\n",
    "print(type(13+2)) #A\n",
    "print(type(30/2)) #B\n",
    "print((30/2)==(13+2)) #C"
   ]
  },
  {
   "cell_type": "markdown",
   "metadata": {},
   "source": [
    "As you can see above, simple arithmetic operations like addition (+) and division (/) give different numerical outputs. Some general rules of thumb:\n",
    "* All integer arithmetic will yield integer results if only integers are used.\n",
    "* If floats are used, arithmetic will yield a float result, even if only one of the values is a float.\n",
    "\n",
    "Let's see this in practice with some additional arithmetic, like multiplication (\\*) and exponents (\\**)."
   ]
  },
  {
   "cell_type": "code",
   "execution_count": null,
   "metadata": {},
   "outputs": [],
   "source": [
    "# you can use the asterisk (*) to do multiplication\n",
    "print(2*4) # integers only\n",
    "print(2.0*4) # uses a float\n",
    "\n",
    "# and two asterisks to do exponential powers\n",
    "print(2**4) # integers only\n",
    "print(2.0**4) # uses a float"
   ]
  },
  {
   "cell_type": "markdown",
   "metadata": {},
   "source": [
    "A less commonly used, but still handy arithmetic operator is the **modulo operator**. The modulo gives the remainder of a division operation if the numbers don't divide to yield a whole number.\n",
    "\n",
    "If you are confused, the following might be helpful:\n",
    "* On the modulo operator: https://bit.ly/2YEiCuD "
   ]
  },
  {
   "cell_type": "code",
   "execution_count": null,
   "metadata": {
    "code_folding": []
   },
   "outputs": [],
   "source": [
    "## the modulo operator\n",
    "\"\"\"\n",
    "# the '%' modulo operator gives the remainder \n",
    "e.g. 10 % 4 = 2 , the remainder of 10/4 is 2 \n",
    "useful for finding even / odd numbers or counting by \"k\"\n",
    "\"\"\"\n",
    "\n",
    "print(1%2, 2%2, 3%2, 4%2) \n"
   ]
  },
  {
   "cell_type": "markdown",
   "metadata": {},
   "source": [
    "## Assigning variables\n",
    "\n",
    "**Variables** are simply representations of the data that you want to work with. For example, we use variables in mathematical equations like F = ma, where each variable (F, m, a) represents a value corresponding to force, mass, and acceleration.\n",
    "\n",
    "To create a variable, you write out your variable name, an \"=\" sign, and then what you want it to represent. Spaces around the equal sign are optional but encouraged for code readability.\n",
    "\n",
    "Let's run the cell below:"
   ]
  },
  {
   "cell_type": "code",
   "execution_count": null,
   "metadata": {
    "code_folding": []
   },
   "outputs": [],
   "source": [
    "## Variables\n",
    "\"\"\"\n",
    "variables can be assigned with the \"=\" operator\n",
    "\"\"\"\n",
    "\n",
    "x=5\n",
    "y=3\n",
    "z=x*y/2\n",
    "print(z)"
   ]
  },
  {
   "cell_type": "markdown",
   "metadata": {},
   "source": [
    "The first thing you might notice is that there's no output generated from assigning a variable. However, the variable does exist, as evidenced by printing the value of z.\n",
    "\n",
    "Once you've assigned the variable, it's stored in what we call the coding **environment**, meaning that you can access it at any point going forward (as long as the kernel doesn't reset, which happens if you reopen the notebook).\n",
    "\n",
    "One of the most common beginner errors is referencing variables before they've been assigned. For example, we assigned x, y, and z above, but what if we accidentally misremember that we assigned those values as a, b, and c?"
   ]
  },
  {
   "cell_type": "code",
   "execution_count": null,
   "metadata": {},
   "outputs": [],
   "source": [
    "print(a)\n",
    "print(b)\n",
    "print(c)"
   ]
  },
  {
   "cell_type": "markdown",
   "metadata": {},
   "source": [
    "## Back to our simple math \n",
    "\n",
    "Another very useful operator is the **+= (\"plus equals\") operator**. This is a shortcut operator that allows us to add some incremental value to a variable and \"cement\" the new value in place.\n",
    "\n",
    "If you are confused, the following might be helpful:\n",
    "* On the += operator: https://bit.ly/2Qzk6Sh \n"
   ]
  },
  {
   "cell_type": "code",
   "execution_count": null,
   "metadata": {
    "code_folding": []
   },
   "outputs": [],
   "source": [
    "## The += operator\n",
    "\n",
    "\"\"\"\n",
    "The operation of adding incrementing a number by some fixed value\n",
    "e.g. by 1, is so commonn that there is a shorthand for it\n",
    "\n",
    "+=x : increment by x\n",
    "\"\"\"\n",
    "\n",
    "x=2 # set x to 2\n",
    "print(x)\n",
    "x=x+1 # now set x to itself plus 1\n",
    "print(x)\n",
    "x+=1 # now use += to do the same thing one more time!\n",
    "print(x)"
   ]
  },
  {
   "cell_type": "markdown",
   "metadata": {},
   "source": [
    "It doesn't save that much writing space to use +=, but if there's one thing you'll learn in this class, it's that programmers *really* love their shortcuts, so you'll probably see it used in some of the code we'll show you later on. You don't have to use it yourself if it feels clunky, but this way, at least you know what's happening if you read it in some code!"
   ]
  },
  {
   "cell_type": "markdown",
   "metadata": {},
   "source": [
    "## Order of operations\n",
    "\n",
    "If the order of operations is ambiguous, Python works with the standard PEMDAS conventions, but it is always better to be explicit (by using parentheses)."
   ]
  },
  {
   "cell_type": "code",
   "execution_count": null,
   "metadata": {},
   "outputs": [],
   "source": [
    "print(2+4*3)\n",
    "print(2+(4*3))\n",
    "print((2+4)*3)\n",
    "\n",
    "print((2+4)*3)"
   ]
  },
  {
   "cell_type": "markdown",
   "metadata": {},
   "source": [
    "# Q4: Introduction to logical operations\n",
    "\n",
    "**Logical operations** are operations that give you True or False values. The T in True and F in False are capitalized for a reason: these aren't strings, they're actually special *logical (Boolean) elements* with their own special type, like a numeric or a float. No need to worry about that yet though, just know that the capital makes them extra powerful, and they're <u>not</u> strings!\n",
    "\n",
    "The most frequently used logical operations are **equivalence operations**. A single equal sign, as we used before, is used to assign variables. On the other hand, you'll also frequently see double equal signs (==) and an exclamation mark-equal sign combination.\n",
    "* The **== operation** checks whether or not the element on the left of the == is equal to the element on the right: if they're equal, it returns a True, and if not, a False.\n",
    "* The **!= operation** does the opposite: if the two elements are *not* equal, it returns a True, and if they *are* equal, a False. Tricky tricky!"
   ]
  },
  {
   "cell_type": "code",
   "execution_count": null,
   "metadata": {
    "code_folding": []
   },
   "outputs": [],
   "source": [
    "## Assignment versus equivalence\n",
    "\"\"\"\n",
    "it is CRITICAL to understand the difference between \"=\" and \"==\"\n",
    "\"\"\"\n",
    "\n",
    "x=10 \n",
    "print(\"Is x equal to 5?\", x==5) \n",
    "\n",
    "\"\"\"\n",
    "The data type output by the above code is known as a BOOLEAN\n",
    "data type, which is either True or False!\n",
    "\"\"\"\n",
    "\n",
    "x=5 # Now x is reassigned to 5\n",
    "print(\"Is x equal to 5?\", x==5) \n",
    "print(\"Is x NOT equal to 5?\", x!=5)"
   ]
  },
  {
   "cell_type": "markdown",
   "metadata": {},
   "source": [
    "## Introduction to strings\n",
    "\n",
    "In computer programming, a **string** is a sequence of characters, e.g.  words. We've been using strings for a while now, actually: most of the things we've been printing are strings!\n",
    "\n",
    "The catch, in computer programming, is that a string is *literally* a sequence of characters. Let's think about numbers: the number 1 is generally a number, not a string. However, “1” could also be encoded as a string if you put quotes around it, but then it works differently,  e.g. you can’t add the string ‘1” and the number 3. Confusing, I know! "
   ]
  },
  {
   "cell_type": "markdown",
   "metadata": {},
   "source": [
    "## Q5: What's in a string?"
   ]
  },
  {
   "cell_type": "code",
   "execution_count": null,
   "metadata": {
    "code_folding": []
   },
   "outputs": [],
   "source": [
    "## Strings\n",
    "#A string in python is a sequence of characters\n",
    "\n",
    "x = \"IB134L\"\n",
    "print(x)\n",
    "print(len(x))  # String length; prints \"5\"\n",
    "\n",
    "print(type(x))\n",
    "print(type(\"ib134L\"))\n",
    "type(\"ib134l\")"
   ]
  },
  {
   "cell_type": "markdown",
   "metadata": {},
   "source": [
    "## String operations\n",
    "\n",
    "It turns out that we can actually do very similar operations with strings using the operators we learned about just now with numerics. Although somewhat less intuitive than arithmetic, these operations can be quite powerful when it comes to manipulating string-type data."
   ]
  },
  {
   "cell_type": "code",
   "execution_count": null,
   "metadata": {
    "code_folding": [],
    "scrolled": true
   },
   "outputs": [],
   "source": [
    "\"\"\"\n",
    "there are all kinds of operations that can be \n",
    "run on strings that are super helpful\n",
    "\n",
    "https://docs.python.org/3/library/stdtypes.html#string-methods\n",
    "\"\"\"\n",
    "\n",
    "s = \"hello\"\n",
    "print(s.upper())  # Convert a string to uppercase; prints \"HELLO\"\n",
    "print(s.replace('l', '(l)'))  # Replace all instances of one substring with another;\n",
    "print('--TEXT--'.rstrip(\"-\"))  # Strip trailing characters\n",
    "print('--TEXT--'.lstrip(\"-\"))  # Strip leading characters\n",
    "print('--TEXT--'.strip(\"-\"))  # Strip leading and trailing characters\n",
    "print(len('--TEXT--'))  # what is the length of this string?"
   ]
  },
  {
   "cell_type": "code",
   "execution_count": null,
   "metadata": {
    "code_folding": []
   },
   "outputs": [],
   "source": [
    "## converting strings to numbers\n",
    "\n",
    "\"\"\"\n",
    "often when we are reading files numbers are encoded as\n",
    "strings. To use these numbers as numbers we need to\n",
    "convert them to floats or integers.\n",
    "\n",
    "This process is called 'coercion'.\n",
    "\"\"\"\n",
    "\n",
    "string_number = \"5.3\"\n",
    "\n",
    "#print(string_number + 3) # uncomment this and try it out: this will fail, bc you cannot add a string to an integer\n",
    "\n",
    "#print(int(string_number) + 3) # uncomment this and try it out: it will fail, bc 5.3 is not an integer!\n",
    "\n",
    "print(float(string_number) + 3)\n",
    "\n",
    "print(\"You can also coerce a number to a string: \", str(3))\n"
   ]
  },
  {
   "cell_type": "markdown",
   "metadata": {},
   "source": [
    "## Q6: Formatting strings\n",
    "\n",
    "One unique property of strings is that we can programatically \"fill in the blanks\" of a given string by using something called **formatting**. This is easier shown than explained."
   ]
  },
  {
   "cell_type": "code",
   "execution_count": null,
   "metadata": {},
   "outputs": [],
   "source": [
    "x=\"IB134L\"\n",
    "IB134_ranking = 1\n",
    "template_string = \"{v1} is my number {v2} class!\" \n",
    "\n",
    "\"\"\"\n",
    "Notice the elements enclosed curly braces in template_string?\n",
    "These are like placeholders for string elements we know we want to fill in later.\n",
    "\"\"\"\n",
    "\n",
    "complex_string = template_string.format(v1=x, v2=IB134_ranking)\n",
    "\n",
    "print(complex_string)"
   ]
  },
  {
   "cell_type": "markdown",
   "metadata": {},
   "source": [
    "This might seem like a silly parlor trick, but it's actually quite useful for repetitive fill-in-the-blank operations."
   ]
  },
  {
   "cell_type": "code",
   "execution_count": null,
   "metadata": {},
   "outputs": [],
   "source": [
    "cat_template = 'I have a cat, {num} of them. Does this make me a hoarder?'\n",
    "\n",
    "howMany = 3\n",
    "print(cat_template.format(num=howMany))\n",
    "howMany +=1\n",
    "print(cat_template.format(num=howMany))\n",
    "howMany += 1\n",
    "print(cat_template.format(num=howMany))\n",
    "howMany += 1"
   ]
  },
  {
   "cell_type": "markdown",
   "metadata": {},
   "source": [
    "# Introduction to lists\n",
    "\n",
    "**Lists** are an intuitive data structure: they're pretty much exactly what you think they are. You can use lists to contain an ordered array of elements. You can have different types of elements in a list, and you can add or remove elements to a list after you create it."
   ]
  },
  {
   "cell_type": "code",
   "execution_count": null,
   "metadata": {
    "code_folding": []
   },
   "outputs": [],
   "source": [
    "\"\"\"\n",
    "lists are ordered arrays of elements\n",
    "in some languages this type is called an array\n",
    "\"\"\"\n",
    "\n",
    "xs = [9, 5, 12] # Create a list\n",
    "print(xs)\n",
    "\n",
    "xs.append(201)  # add an element to the end of the list\n",
    "print(xs) # notice how the list now has 201?\n",
    "\n",
    "xs.pop() # pop an element off the end of a list\n",
    "print(xs) # notice how 201 is gone again?\n",
    "\n",
    "xs.append(\"asdf\") # let's add a string\n",
    "print(xs)"
   ]
  },
  {
   "cell_type": "markdown",
   "metadata": {},
   "source": [
    "## Retrieving values from a list"
   ]
  },
  {
   "cell_type": "code",
   "execution_count": null,
   "metadata": {
    "code_folding": []
   },
   "outputs": [],
   "source": [
    "## list indexing\n",
    "\n",
    "\"\"\"\n",
    "One of the appealing features of lists is that they are ordered, meaning that each element has an index.\n",
    "For example, if we want to get the first item in a list, we can do that by asking for it with square brackets:\n",
    "\n",
    "list[index]\n",
    "\n",
    "Python has a funny little quirk: indexing starts at 0, so the \"first\" element of anything is called with [0].\n",
    "You'll probably have a few off-by-one errors while you get used to this.\n",
    "\"\"\"\n",
    "\n",
    "xs = [5,7,1,9]\n",
    "print(xs[1])   # remember that indexing starts at 0, so this will give us the *second* value\n",
    "print(xs[0])   # see how THIS gives us the first value, not [1]?\n",
    "\n",
    "print(xs[-1])  # Negative indices count back from the end of a list\n",
    "print(xs[3])"
   ]
  },
  {
   "cell_type": "code",
   "execution_count": null,
   "metadata": {
    "code_folding": []
   },
   "outputs": [],
   "source": [
    "## list slicing\n",
    "\n",
    "\"\"\"\n",
    "If you want to retrieve a sequence of values from a list, you can \"slice\" it!\n",
    "\"\"\"\n",
    "\n",
    "xs = [5, 7, 1, 9, 201]\n",
    "\n",
    "print(xs[2:4]) # Get a slice from index 2 to 4 - exclusive! ie, includes elements 2 and 3, not 4\n",
    "print(xs[2:])  # Get a slice from index 2 to the end; \n",
    "print(xs[:2])  # Get a slice from the start to index 2, doesn't include element 2\n",
    "\n",
    "print(xs[:-1]) # negative slices, all but last element\n",
    "print(xs[:-2]) # negative slices, all but last two elements\n"
   ]
  },
  {
   "cell_type": "code",
   "execution_count": null,
   "metadata": {
    "code_folding": []
   },
   "outputs": [],
   "source": [
    "## super slicing\n",
    "\"\"\"\n",
    "You can also get incremented elements of a list by providing a 'step', like so:\n",
    "\n",
    "list[start:end:step]\n",
    "\"\"\"\n",
    "\n",
    "xs = [5, 7, 1, 9, 201]\n",
    "\n",
    "\n",
    "print(xs[::])   #the whole list\n",
    "print(xs[::2])  #every second element\n",
    "print(xs[1::2]) #every second element starting at element 1\n",
    "print(xs[::-1]) #reverse the list"
   ]
  },
  {
   "cell_type": "code",
   "execution_count": null,
   "metadata": {
    "code_folding": []
   },
   "outputs": [],
   "source": [
    "## list operations\n",
    "\n",
    "\"\"\"\n",
    "Although we're currently working with small lists, the time will come when you work with very big lists.\n",
    "When that happens, you might want to check if something already exists in a list before adding it.\n",
    "\"\"\"\n",
    "\n",
    "xs = [5, 7, 1, 9, 201]\n",
    "\n",
    "print(19 in xs)       #is 19 in the list?\n",
    "print(9 in xs)        #is 9 in the  list?  \n",
    "print(xs.index(9))    #where is 9?"
   ]
  },
  {
   "cell_type": "code",
   "execution_count": null,
   "metadata": {},
   "outputs": [],
   "source": [
    "## list operations\n",
    "\n",
    "\"\"\"\n",
    "You might also want to find out some basic information about a list.\n",
    "\"\"\"\n",
    "\n",
    "print(min(xs))        #the minimum element\n",
    "print(max(xs))        #the maximum element"
   ]
  },
  {
   "cell_type": "code",
   "execution_count": null,
   "metadata": {
    "code_folding": []
   },
   "outputs": [],
   "source": [
    "## list concatenation\n",
    "\n",
    "\"\"\"\n",
    "You can use simple arithmetic operators to combine (or 'concatenate') two or more lists together.\n",
    "\"\"\"\n",
    "\n",
    "x1 = [1,2,3]\n",
    "x2 = [4, 5, 6]\n",
    "\n",
    "joined_list = x1 + x2 + [3,1,5]\n",
    "\n",
    "print(joined_list)\n",
    "\n",
    "x3 = list(range(20))\n",
    "print(x3)\n"
   ]
  },
  {
   "cell_type": "code",
   "execution_count": null,
   "metadata": {},
   "outputs": [],
   "source": [
    "x1 = [1,2,3]\n",
    "x2 = [4, 5, 6]\n",
    "\n",
    "print([x1,x2]) # another way to concatenate"
   ]
  },
  {
   "cell_type": "markdown",
   "metadata": {},
   "source": [
    "Last but not least, there's a very useful relationship between strings and lists: strings can be turned into lists of single characters, and a list of individual characters can be joined into one string. Check it out!"
   ]
  },
  {
   "cell_type": "code",
   "execution_count": null,
   "metadata": {
    "code_folding": []
   },
   "outputs": [],
   "source": [
    "## splitting strings into lists\n",
    "\n",
    "student_names = \"Debora,Miguel,Stacy,Xu\"\n",
    "list_of_names = student_names.split(\",\")\n",
    "print(list_of_names)\n",
    "\n",
    "## combining a list into a string\n",
    "names_again = \"_\".join(list_of_names)\n",
    "print(names_again) # Notice how they've been re-combined with an underscore between each name?"
   ]
  },
  {
   "cell_type": "markdown",
   "metadata": {},
   "source": [
    "# On to the Pokemon data set!\n",
    "\n",
    "Now, we are going to practice some actual code writing by messing around with a sample dataset. This dataset is titled “Pokemon”. Pokemon is a popular, imaginary world that was popular in 1990 onward wherein people collect  imaginary creatures, known as Pokemon, and have them battle each other in order to enhance  their status. \n",
    "\n",
    "Pokemon.csv contains information about different Pokemon, including their stats, types,  generation, and legendary status. Super cool AND trendy! This Pokemon dataset was  downloaded from data.world from the user @data-society. Blame them if the stats go against  your personal calculations gained from years of EV training.\n",
    "\n",
    "First, we will import different programs that are necessary to visualize data. **Make sure you have the Lab 1 PDF open to the \"On to the Pokemon data set\" section**. \n",
    "\n",
    "Create a new cell below, then copy and paste or rewrite the code from the PDF. (One  shortcut to make a new cell is to press ‘B’!). "
   ]
  },
  {
   "cell_type": "code",
   "execution_count": null,
   "metadata": {},
   "outputs": [],
   "source": []
  }
 ],
 "metadata": {
  "kernelspec": {
   "display_name": "Python 3 (ipykernel)",
   "language": "python",
   "name": "python3"
  },
  "language_info": {
   "codemirror_mode": {
    "name": "ipython",
    "version": 3
   },
   "file_extension": ".py",
   "mimetype": "text/x-python",
   "name": "python",
   "nbconvert_exporter": "python",
   "pygments_lexer": "ipython3",
   "version": "3.9.6"
  }
 },
 "nbformat": 4,
 "nbformat_minor": 4
}
