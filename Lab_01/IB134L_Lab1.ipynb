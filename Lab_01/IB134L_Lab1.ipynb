{
 "cells": [
  {
   "cell_type": "markdown",
   "metadata": {},
   "source": [
    "# Lab 01: Introduction to Jupyter notebooks, bash, and data types"
   ]
  },
  {
   "cell_type": "markdown",
   "metadata": {},
   "source": [
    "Welcome to the Jupyter notebook interface! This is where we'll be doing a lot of the Python programming in this course.\n",
    "\n",
    "Since knowing Python is not a prerequisite for this course, we do not assume prior knowledge. If you're new to Python or programming in general, rest assured that we will be covering basics of Python coding. Today, we've already input many scripts into cells, so all you have to do is run them and see what happens! "
   ]
  },
  {
   "cell_type": "markdown",
   "metadata": {},
   "source": [
    "## How Jupyter notebooks work\n",
    "\n",
    "Take a look at the upper right hand corner of the window: among other things, you'll see a line that says \"Python3 (ipykernel)\".\n",
    "\n",
    "Jupyter notebooks are connected to different modules called **kernels**, which enable use of different coding languages. For example, iPython (ipykernel) is a kernel that can interpret and execute code written in the Python programming language. If we want to write code in a different language (which we'll be doing in coming weeks), we can  switch the kernel we're using with our notebook. Everything else about the notebook's interface stays the same – this is handy for us, since it means we won't have to spend too much time teaching you how to use different programs.\n",
    "\n",
    "Let's set aside this concept of kernels for now and move on to a more exciting task: editing and writing code."
   ]
  },
  {
   "cell_type": "markdown",
   "metadata": {},
   "source": [
    "## Annotating code and running code cells"
   ]
  },
  {
   "cell_type": "markdown",
   "metadata": {},
   "source": [
    "The gray boxes in Jupyter notebooks are called **code cells**, or just \"cells\" for short. Cells form the important part of our Jupyter notebooks: they contain the code to be executed in the kernel, and also display the output of the code after it’s run.\n",
    "\n",
    "However, before we get started with editing and writing code, it’s important to introduce our two ways of annotating code in a cell. Annotating means explaining what the code is, or what it does. Good code should be well  annotated so you know exactly what everything is and why it’s there!\n",
    "\n",
    "Below is our first code cell: read the contents carefully!"
   ]
  },
  {
   "cell_type": "code",
   "execution_count": null,
   "metadata": {},
   "outputs": [],
   "source": [
    "# This is a \"comment\": programmers use comments to annotate their code.\n",
    "# Notice how this line starts with a hashtag/hash mark (#): this is what makes it a comment.\n",
    "\n",
    "print(\"Comments aren't visible in the output of the code cell: they're just for the reader!\")\n",
    "# print(\"That means that this bit of code won't actually run!\")\n",
    "print(\"You can put comments in between or after lines of code, and they won't be visible.\") # Look, no comment!"
   ]
  },
  {
   "cell_type": "markdown",
   "metadata": {},
   "source": [
    "Let’s go ahead and run the above cell to see what comes out. To run the code in this cell, select the cell so it is  highlighted in green. Then you can do either of three things: \n",
    "1. Press Ctrl+Enter (On Mac it’s Command + Enter!) \n",
    "2. Press “Run” in the menu  \n",
    "3. Select the cell and click Cell > Run Cells \n",
    "\n",
    "You should see only two lines printed out right below the code cell. In this manner, comments can be handily included as human-readable guides for what the code is intended to do. Again, this is super important: writing good code is one thing, remembering what it does and why is another.\n",
    "\n",
    "> You may notice that the “In [ ]” value changes after each time the code is executed. This value can be used to help you keep track of when the cell was run on the kernel: the \"In\" stands for \"Input\".\n",
    "\n",
    "The lines that *are* visible are the result of the <code>print()</code> function. A **function** is a bit of code that performs a specific task. Programming languages come with \"built in\" functions that perform simple standard operations. <code>print()</code> is a built-in function that prints the items in parentheses to the output of the code cell: nothing more, nothing less.\n",
    "\n",
    "Below is another simple example of the <code>print()</code> function in a code cell."
   ]
  },
  {
   "cell_type": "code",
   "execution_count": null,
   "metadata": {},
   "outputs": [],
   "source": [
    "print(\"My favorite animal is #ANIMAL\")"
   ]
  },
  {
   "cell_type": "markdown",
   "metadata": {},
   "source": [
    "> **Answer Question 1 on the worksheet.**\n",
    "\n",
    "Let's look at another cell: this one has a <code>print()</code> statement, but it's \"commented out\". Additionally, even though \"doggy\" has a <code>#</code> preceding it, it prints out correctly because it's *inside* the print statement."
   ]
  },
  {
   "cell_type": "code",
   "execution_count": null,
   "metadata": {},
   "outputs": [],
   "source": [
    "print(\"lizard\") #turtle\n",
    "\n",
    "#print(\"hummingbird\")\n",
    "\n",
    "print(\"#doggy\")"
   ]
  },
  {
   "cell_type": "markdown",
   "metadata": {},
   "source": [
    "It's common for programmers to \"comment out\" code that they're working on, but don't want to run. You can comment out lines using a keyboard shortcut (Ctrl + / on Windows, Command + / on Mac).\n",
    "\n",
    "> A quick note: If you forget these keyboard shortcuts, you can look them up by going to Help > Keyboard Shortcuts on the toolbar of the notebook.\n",
    "\n",
    "Let's take a quick moment to record our findings on the worksheet."
   ]
  },
  {
   "cell_type": "markdown",
   "metadata": {},
   "source": [
    "> **Answer Question 2 on the worksheet.**"
   ]
  },
  {
   "cell_type": "markdown",
   "metadata": {},
   "source": [
    "## Editing code cells"
   ]
  },
  {
   "cell_type": "markdown",
   "metadata": {},
   "source": [
    "Let’s try editing some code! Below is a variant of the classic \"Hello, world!\" line of code. Double click the cell below to begin editing it, then run the cell."
   ]
  },
  {
   "cell_type": "code",
   "execution_count": null,
   "metadata": {},
   "outputs": [],
   "source": [
    "print(\"Hello, world! My name is XXXX\") # replace XXXX with your name"
   ]
  },
  {
   "cell_type": "markdown",
   "metadata": {},
   "source": [
    "Congratulations! You've just taken your first baby step to writing (Python) code in this class. 🐍\n",
    "\n",
    "Let's revisit our animals from before. Just to cement what we've already learned, try changing the code such that all four animals (lizard, turtle, hummingbird, doggy) are printed. You may need to write a new <code>print()</code> line to achieve this."
   ]
  },
  {
   "cell_type": "code",
   "execution_count": null,
   "metadata": {
    "code_folding": []
   },
   "outputs": [],
   "source": [
    "print(\"lizard\") #turtle\n",
    "\n",
    "#print(\"hummingbird\")\n",
    "\n",
    "print(\"#doggy\")"
   ]
  },
  {
   "cell_type": "markdown",
   "metadata": {},
   "source": [
    "# Introduction to data types\n",
    "\n",
    "**Data types** are exactly what they sound like: types of data and how we represent them. Think about some examples of data that you encounter in your everyday life: the number of steps that you take on the way to class, the quantity of water you drink every day. These data can be represented by certain *types* in programming languages.\n",
    "\n",
    "As we mentioned earlier today, we'll be using Python to prime our understanding of data types. We won't always use Python in this course, but data types are generally similar across programming languages. Thus, the most important thing is to understand the intuition behind *why* we have different data types. Once you understand that, you can begin to think about how biological data can be represented, and why it's represented in a certain type."
   ]
  },
  {
   "cell_type": "markdown",
   "metadata": {},
   "source": [
    "Just to cement what we've already learned, try changing the code such that all four animals are printed."
   ]
  },
  {
   "cell_type": "markdown",
   "metadata": {},
   "source": [
    "## Strings\n",
    "\n",
    "Whether you knew it or not, you started working with strings the moment you ran the first code cell. **Strings** refer to strings of characters."
   ]
  },
  {
   "cell_type": "code",
   "execution_count": null,
   "metadata": {},
   "outputs": [],
   "source": [
    "print(\"You can use double quotes to represent a string...\")\n",
    "print('You can use single quotes to represent a string as well.')"
   ]
  },
  {
   "cell_type": "markdown",
   "metadata": {},
   "source": [
    "You can even use *triple* quotes to represent a string that spans multiple lines."
   ]
  },
  {
   "cell_type": "code",
   "execution_count": null,
   "metadata": {},
   "outputs": [],
   "source": [
    "print (\"\"\"A series of lines\n",
    "Which quote format should I use?\n",
    "A coding haiku\"\"\")"
   ]
  },
  {
   "cell_type": "markdown",
   "metadata": {},
   "source": [
    "## Numerics\n",
    "There are two numeric data types: **integers** and **floats**. You can think of integers as, well, integers, and floats as decimal point containing numbers. "
   ]
  },
  {
   "cell_type": "code",
   "execution_count": null,
   "metadata": {},
   "outputs": [],
   "source": [
    "# an integer\n",
    "134"
   ]
  },
  {
   "cell_type": "code",
   "execution_count": null,
   "metadata": {},
   "outputs": [],
   "source": [
    "# a float\n",
    "134.0"
   ]
  },
  {
   "cell_type": "markdown",
   "metadata": {},
   "source": [
    "## A brief interlude: why use print?"
   ]
  },
  {
   "cell_type": "markdown",
   "metadata": {},
   "source": [
    "Now is a good time to pause and introduce a minor quirk of Jupyter notebooks. So far, we've used <code>print()</code> statements to show things in the output of code cells. However, it's possible to show things in the output *without* printing:"
   ]
  },
  {
   "cell_type": "code",
   "execution_count": null,
   "metadata": {},
   "outputs": [],
   "source": [
    "\"Try running this cell: you'll see this string in the output.\""
   ]
  },
  {
   "cell_type": "markdown",
   "metadata": {},
   "source": [
    "However, the caveat is that Jupyter will only show the *most recent* output. Look at this next cell and think about what you expect to see in the output. Afterwards, run it: what actually happens?"
   ]
  },
  {
   "cell_type": "code",
   "execution_count": null,
   "metadata": {},
   "outputs": [],
   "source": [
    "\"Should we get coffee or boba?\"\n",
    "\"I'd prefer to get boba!\""
   ]
  },
  {
   "cell_type": "markdown",
   "metadata": {},
   "source": [
    "Try using <code>print()</code> statements to make both lines appear correctly.\n",
    "\n",
    "Another use of <code>print()</code> is to print out multiple items in sequence, even different data types:"
   ]
  },
  {
   "cell_type": "code",
   "execution_count": null,
   "metadata": {},
   "outputs": [],
   "source": [
    "print(\"You can print a string, followed by some numbers: \", 1, 2, 3, \", and then a string again.\")"
   ]
  },
  {
   "cell_type": "markdown",
   "metadata": {},
   "source": [
    "In this manner, <code>print()</code> is quite appealing for showing multiple outputs in a human-readable format."
   ]
  },
  {
   "cell_type": "markdown",
   "metadata": {},
   "source": [
    "## Which type is which?\n",
    "So far, our data types have been pretty intuitive: strings are text, and numbers are numerics. However, things aren't always so simple. We used very legal language in our definition of a string: a string is a string of characters. Characters can *also* include numbers."
   ]
  },
  {
   "cell_type": "code",
   "execution_count": null,
   "metadata": {},
   "outputs": [],
   "source": [
    "\"42\" # what type am I?"
   ]
  },
  {
   "cell_type": "markdown",
   "metadata": {},
   "source": [
    "Tricky, right? Luckily for us, if we're ever unsure of a data type, there's a very handy built-in function called <code>type()</code> that can help us check the data type of data that we interact with. Let's try it out:"
   ]
  },
  {
   "cell_type": "code",
   "execution_count": null,
   "metadata": {},
   "outputs": [],
   "source": [
    "# Edit this cell and use type() to check the types of each line.\n",
    "# You will need to use print() to make sure that you can see the output of each line.\n",
    "# here's an example:\n",
    "print(type(134.0)) # what's the type of 134.0? \n",
    "\n",
    "# now you try it!\n",
    "\n",
    "\"42\"\n",
    "3.14159\n",
    "\"The mitochondria is the powerhouse of the cell.\"\n",
    "\"3.14159\"\n",
    "print"
   ]
  },
  {
   "cell_type": "markdown",
   "metadata": {},
   "source": [
    "Also luckily for us, there's a way to convert numbers-that-are-actually-strings to actual numerics, and vice versa. This process is called **coercion**."
   ]
  },
  {
   "cell_type": "code",
   "execution_count": null,
   "metadata": {},
   "outputs": [],
   "source": [
    "print(int(\"3\"), type(int(\"3\"))) # turning a number-string into an int\n",
    "print(float(\"3\"), type(float(\"3\"))) # same for float\n",
    "print(str(3), type(str(3))) # or a numeric to a string"
   ]
  },
  {
   "cell_type": "markdown",
   "metadata": {},
   "source": [
    "Coercion is very useful for situations where you want to switch your data types. \n",
    "\n",
    "Imagine that want to input a list of weights from an Excel file into Python. (We'll teach you how to do this later.) Python can't read your mind: by default, Python will assume that most things you input are strings. This is annoying, because you can't perform math on these strings! (For fun, try running \"42\" + \"24\".)\n",
    "\n",
    "Using *coercion*, you can coerce the strings (like \"61.0\") into numeric data types. By doing so, you can then perform your mathematical operations as intended."
   ]
  },
  {
   "cell_type": "markdown",
   "metadata": {},
   "source": [
    "## Assigning variables\n",
    "We've made some great strides in terms of representing data: now, let's think about *storing* it. \n",
    "\n",
    "**Variables** are simply representations of the data that you want to work with. For example, we use variables in mathematical equations like <code>F = ma</code>, where each variable (F, m, a) represents a value corresponding to force, mass, and acceleration.\n",
    "\n",
    "To create a variable, you write out your variable name, an \"=\" sign, and then what you want it to represent. Spaces around the equal sign are optional but encouraged for code readability."
   ]
  },
  {
   "cell_type": "code",
   "execution_count": null,
   "metadata": {},
   "outputs": [],
   "source": [
    "pi = 3.14159 # a classic variable we know and love"
   ]
  },
  {
   "cell_type": "markdown",
   "metadata": {},
   "source": [
    "Try running the above cell if you haven't already. Notice how the <code>In [ ]:</code> changes, but no output is shown? If we want to confirm the data stored in our variable, we have to \"call\" the variable manually, which is as simple as writing its name in the cell."
   ]
  },
  {
   "cell_type": "code",
   "execution_count": null,
   "metadata": {},
   "outputs": [],
   "source": [
    "pi"
   ]
  },
  {
   "cell_type": "markdown",
   "metadata": {},
   "source": [
    "> **Answer Question 3 in the worksheet.**"
   ]
  },
  {
   "cell_type": "markdown",
   "metadata": {},
   "source": [
    "We can modify variables after we create them by \"reassigning\" their value. This is easier shown than explained:"
   ]
  },
  {
   "cell_type": "code",
   "execution_count": null,
   "metadata": {},
   "outputs": [],
   "source": [
    "myMoney = 50\n",
    "pizzaCost = 10\n",
    "\n",
    "myMoney = myMoney - pizzaCost # I'm buying dinner\n",
    "print(myMoney) # how much money do I have now?"
   ]
  },
  {
   "cell_type": "markdown",
   "metadata": {},
   "source": [
    "Simple enough, right? As things stand right now, after you save a value in a variable, you can use it as you please in code that you write in your notebook. There are some greater complexities that we may discuss later on in the course, such as \"scope\" and \"environments\" in which variables are stored: however, those are unimportant for now.\n",
    "\n",
    "By contrast, it *us* important to address common mistakes that beginners make, so let's head them off before they throw a wrench in your nice first day of lab.\n",
    "\n",
    "First of all, we can't name a variable with a number at the beginning. Try running the below cell."
   ]
  },
  {
   "cell_type": "code",
   "execution_count": null,
   "metadata": {},
   "outputs": [],
   "source": [
    "3.14_pi = 3.14159 # try running this cell"
   ]
  },
  {
   "cell_type": "markdown",
   "metadata": {},
   "source": [
    "Next, variable names are \"case sensitive\", which means that capitalization matters."
   ]
  },
  {
   "cell_type": "code",
   "execution_count": null,
   "metadata": {},
   "outputs": [],
   "source": [
    "Pi # try running this cell"
   ]
  },
  {
   "cell_type": "markdown",
   "metadata": {},
   "source": [
    "Notice how the last two cells have given us <code>SyntaxError</code> and <code>NameError</code>? That's because Python is telling us that it has no idea what we want it to do, because what we just wrote makes no sense to it. \n",
    "\n",
    "If you see an error pop up after running your code, it's important to read the output to see if the error message is informative. For example, the <code>NameError</code> clearly tells us that the name is not defined (assigned) yet: that might be a good hint that maybe we should check our code above to see what we really named our variable. Typos are a common but fatal flaw in the execution of code!"
   ]
  },
  {
   "cell_type": "markdown",
   "metadata": {},
   "source": [
    "## Simple arithmetic\n",
    "\n",
    "Now that we've learned about types and variables, we can think about how and why we'd use certain types to represent certain forms of data. We can also start to work through how types interact (or don't interact), especially when it comes to operations and functions.\n",
    "\n",
    "Simple arithmetic can be accomplished in Python (and most other programming langauges) using symbols that you're likely already familiar with:\n",
    "\n",
    "Addition: <code>+</code>\n",
    "\n",
    "Subtraction: <code>-</code>\n",
    "\n",
    "Division: <code>/</code>\n",
    "\n",
    "Multiplication: <code>*</code>\n",
    "\n",
    "Exponential power: <code>\\**</code> (as in <code>x\\**2</code> translating to $x^{2}$)"
   ]
  },
  {
   "cell_type": "code",
   "execution_count": null,
   "metadata": {
    "code_folding": []
   },
   "outputs": [],
   "source": [
    "print(13*2)\n",
    "print(13-2)\n",
    "print(13+2)\n",
    "print(30/2)\n",
    "print(10**2)"
   ]
  },
  {
   "cell_type": "markdown",
   "metadata": {},
   "source": [
    "Now is a good moment to notice that one of those outputs was not like the others: indeed, <code>15.0</code> is a *float* and not an integer.\n",
    "\n",
    "Some mathematical operations will return floats rather than integers. As a rule of thumb, division with <code>/</code> will always give you a float, and performing *any* arithmetic with a float will result in the output being a float as well."
   ]
  },
  {
   "cell_type": "code",
   "execution_count": null,
   "metadata": {},
   "outputs": [],
   "source": [
    "print(14*14) # what data type do you think this will be?\n",
    "print(14.0 * 14) # and this one?\n",
    "print(14.0 * 14.0) # and this one?\n",
    "print(14.0 / 14.0) # and this one?"
   ]
  },
  {
   "cell_type": "markdown",
   "metadata": {},
   "source": [
    "As you can see above, simple arithmetic operations like addition (+) and division (/) give different numerical outputs. Some general rules of thumb:\n",
    "* All integer arithmetic will yield integer results if only integers are used.\n",
    "* If floats are used, arithmetic will yield a float result, even if only one of the values is a float.\n",
    "\n",
    "Let's see this in practice with some additional arithmetic, like multiplication (\\*) and exponents (\\**)."
   ]
  },
  {
   "cell_type": "markdown",
   "metadata": {},
   "source": [
    "## Let's get logical\n",
    "In programming, **logic** can be simply understood as asking a computer to tell you if something is true or false. In Python (and many other programming languages), we can accomplish this using some symbolic notation you're also likely familiar with:\n",
    "\n",
    "Less than: <code><</code>\n",
    "    \n",
    "Greater than: <code>></code>\n",
    "    \n",
    "Less than or equal to: <code><=</code>\n",
    "    \n",
    "Greater than or equal to: <code>>=</code>\n",
    "    \n",
    "Let's check out what happens if we ask Python about some numbers:"
   ]
  },
  {
   "cell_type": "code",
   "execution_count": null,
   "metadata": {},
   "outputs": [],
   "source": [
    "print(5 > 3)\n",
    "print(0 >= -5)\n",
    "print(15 < 3)"
   ]
  },
  {
   "cell_type": "markdown",
   "metadata": {},
   "source": [
    "Let's check out some more operators that you might not be as familiar with: equivalence and non-equivalence.\n",
    "\n",
    "Equivalence (\"is equal to\"): <code>==</code>\n",
    "\n",
    "Non-equivalence (\"is not equal to\"): <code>!=</code>"
   ]
  },
  {
   "cell_type": "code",
   "execution_count": null,
   "metadata": {},
   "outputs": [],
   "source": [
    "print(10 == 10)\n",
    "print(10 == 5)\n",
    "print(5 != 5)\n",
    "print(5 != 2)"
   ]
  },
  {
   "cell_type": "markdown",
   "metadata": {},
   "source": [
    "Simple enough, right? The commonality of these logical statements is that Python tells us that these statements are either <code>True</code> or <code>False</code>. Now, the nuance of these logic statements is that <code>True</code> and <code>False</code> are *not* strings: they're actually their own special type. Try checking the type of the statements below with <code>type()</code> and <code>print()</code>."
   ]
  },
  {
   "cell_type": "code",
   "execution_count": null,
   "metadata": {},
   "outputs": [],
   "source": [
    "100 > 10 # statement 1, True\n",
    "1.434 > 4 # statement 2, False"
   ]
  },
  {
   "cell_type": "markdown",
   "metadata": {},
   "source": [
    "<code>bool</code> stands for **Boolean**, which is its own special data type. The Boolean data type has two possible values: <code>True</code> and <code>False</code>, which always appear with the first letter capitalized.\n",
    "\n",
    "Now, let's go over some of the common mistakes that students make with logical operations. The cell below shows *correct* usage of logical statements to ask questions about variables."
   ]
  },
  {
   "cell_type": "code",
   "execution_count": null,
   "metadata": {},
   "outputs": [],
   "source": [
    "x=10 \n",
    "print(\"Is x equal to 5?\", x==5) \n",
    "\n",
    "x=5 # Now x is reassigned to 5\n",
    "print(\"Is x equal to 5?\", x==5) \n",
    "print(\"Is x NOT equal to 5?\", x!=5)"
   ]
  },
  {
   "cell_type": "markdown",
   "metadata": {},
   "source": [
    "> **Answer Question 4 in the worksheet using the code cell below.**"
   ]
  },
  {
   "cell_type": "code",
   "execution_count": null,
   "metadata": {},
   "outputs": [],
   "source": [
    "x = 9\n",
    "x == 9\n",
    "x/3 == 3\n",
    "print(x) # Why isn't x equal to 3? "
   ]
  },
  {
   "cell_type": "markdown",
   "metadata": {},
   "source": [
    "## A brief interlude: control flow\n",
    "\n",
    "Use of Booleans is of paramount importance in what we call *control flow* of code: given logic statements, we can create code that operates based on rules and conditions that we define ahead of time.\n",
    "\n",
    "Although we won't cover control flow today, here's an example of some simple code that follows a defined logical path. See if you can understand how Python interprets what we're asking it to do!"
   ]
  },
  {
   "cell_type": "code",
   "execution_count": null,
   "metadata": {},
   "outputs": [],
   "source": [
    "iterations = 5\n",
    "\n",
    "while iterations > 0:\n",
    "    print(\"Another one!\")\n",
    "    iterations = iterations - 1\n",
    "\n",
    "print(\"No more!\")"
   ]
  },
  {
   "cell_type": "markdown",
   "metadata": {},
   "source": [
    "There are two *numeric* data types: **integers** and **floats**. You can think of integers as, well, integers, and floats as decimal point containing numbers."
   ]
  },
  {
   "cell_type": "markdown",
   "metadata": {},
   "source": [
    "## Back to our simple math \n",
    "\n",
    "Another couple of useful operators are the <code>+=</code> (\"plus equals\") and <code>-=</code> (\"minus equal\") operators. These are shortcut operators that allows us to add/remove some incremental value to a variable and reassign the new value in place.\n",
    "\n",
    "If you are confused, the following might be helpful as well:\n",
    "* On the += operator: https://bit.ly/2Qzk6Sh \n"
   ]
  },
  {
   "cell_type": "code",
   "execution_count": null,
   "metadata": {
    "code_folding": []
   },
   "outputs": [],
   "source": [
    "x=2 \n",
    "x=x+1 # now set x to itself plus 1\n",
    "print(x)\n",
    "\n",
    "x=2 # reassign x to 2\n",
    "x+=1 # we can do the same as above with +=\n",
    "print(x)\n",
    "\n",
    "x=2 # reassign x to 2\n",
    "x-=1 # same as above, but we remove 1 instead of adding it\n",
    "print(x)"
   ]
  },
  {
   "cell_type": "markdown",
   "metadata": {},
   "source": [
    "It doesn't save that much writing space to use +=, but if there's one thing you'll learn in this class, it's that programmers *really* love their shortcuts, so you'll probably see it used in some of the code we'll show you later on. Here's a snippet of code that uses both control flow and incrementing operators:"
   ]
  },
  {
   "cell_type": "code",
   "execution_count": null,
   "metadata": {},
   "outputs": [],
   "source": [
    "countdownStart = 10\n",
    "\n",
    "while countdownStart > 0:\n",
    "    print(countdownStart)\n",
    "    countdownStart -= 1\n",
    "else:\n",
    "    print(\"Go!\")"
   ]
  },
  {
   "cell_type": "markdown",
   "metadata": {},
   "source": [
    "## Order of operations\n",
    "\n",
    "If the order of operations is ambiguous, Python works with the standard PEMDAS conventions, but it is always better to be explicit (by using parentheses)."
   ]
  },
  {
   "cell_type": "code",
   "execution_count": null,
   "metadata": {},
   "outputs": [],
   "source": [
    "print(2+4*3)\n",
    "print(2+(4*3))\n",
    "print((2+4)*3)\n",
    "\n",
    "print((2+4)*3)"
   ]
  },
  {
   "cell_type": "markdown",
   "metadata": {},
   "source": [
    "## String operations\n",
    "\n",
    "It turns out that we can actually do very similar operations with strings using the operators we learned about just now with numerics. Although sometimes less intuitive than arithmetic, these operations can be quite powerful when it comes to manipulating string-type data.\n",
    "\n",
    "Let's think of a biological example. CAG nucleotide repeats in the Huntingtin gene are a major hallmark of Huntington's disease, a genetic neurodegenerative disease."
   ]
  },
  {
   "cell_type": "code",
   "execution_count": null,
   "metadata": {},
   "outputs": [],
   "source": [
    "cag_repeat = \"CAG\""
   ]
  },
  {
   "cell_type": "markdown",
   "metadata": {},
   "source": [
    "We can use simple string operations to represent poly-CAG repeats."
   ]
  },
  {
   "cell_type": "code",
   "execution_count": null,
   "metadata": {},
   "outputs": [],
   "source": [
    "print(cag_repeat)\n",
    "print(cag_repeat + cag_repeat)\n",
    "print(cag_repeat * 4)"
   ]
  },
  {
   "cell_type": "markdown",
   "metadata": {},
   "source": [
    "However, we can't use all of our numerical operators with strings. Feel free to try some other operations out below:"
   ]
  },
  {
   "cell_type": "code",
   "execution_count": null,
   "metadata": {},
   "outputs": [],
   "source": [
    "# free space to try out string operations"
   ]
  },
  {
   "cell_type": "markdown",
   "metadata": {},
   "source": [
    "# Break suggestion\n",
    "\n",
    "Now might be a good time to take a bit of a breather if you haven't already. There's a lot of material packed into this notebook, and while we don't expect you to memorize it all, it might be quite overwhelming regardless.\n",
    "\n",
    "We've provided some useful cheat sheets in the Lab_01/Supp folder: we *highly* encourage you to save or even print these out for your personal reference. Feel free to ask Stacy or Valeria for help if you can't figure out how to download!\n",
    "\n",
    "# Introduction to lists\n",
    "\n",
    "**Lists** are an intuitive data structure: they're pretty much exactly what you think they are. You can use lists to contain an ordered array of elements. You can have different types of elements in a list, and you can add or remove elements to a list after you create it.\n",
    "\n",
    "Lists are created using either square brackets like <code>[ ]</code>."
   ]
  },
  {
   "cell_type": "code",
   "execution_count": null,
   "metadata": {},
   "outputs": [],
   "source": [
    "xs = [9, 5, 12, 2.0, \"genome\"] # Create a list\n",
    "print(xs)"
   ]
  },
  {
   "cell_type": "markdown",
   "metadata": {},
   "source": [
    "As we said before, lists are *ordered*, which means that the elements in a list are in a specific placement according to their arrangement in the list. Above, 9 is the first element of the list, and 'genome' is the last.\n",
    "\n",
    "You can use <code>+</code> to combine lists in a specified order."
   ]
  },
  {
   "cell_type": "code",
   "execution_count": null,
   "metadata": {
    "code_folding": []
   },
   "outputs": [],
   "source": [
    "ys = [10, 15]\n",
    "print(xs + ys)\n",
    "print(ys + xs) # notice the order!"
   ]
  },
  {
   "cell_type": "markdown",
   "metadata": {},
   "source": [
    "On top of being ordered, lists are also **mutable**, which means they can be modified after their creation. The fact that lists are ordered means that we can modify them in very useful ways.\n",
    "\n",
    "Add an element to the end of the list: <code>.append</code>\n",
    "\n",
    "Remove the last element of the list: <code>.pop</code>"
   ]
  },
  {
   "cell_type": "code",
   "execution_count": null,
   "metadata": {},
   "outputs": [],
   "source": [
    "xs.append(201)  # add an element to the end of the list\n",
    "print(xs) # notice how the list now has 201?\n",
    "\n",
    "xs.pop() # pop an element off the end of a list\n",
    "print(xs) # notice how 201 is gone again?"
   ]
  },
  {
   "cell_type": "markdown",
   "metadata": {},
   "source": [
    "You may be wondering why the statements above are structured as they are: in short, they are data-type specific functions called **methods**. \n",
    "\n",
    "These functions only work with their specific data types (above, a list): you can think of them as functions that \"belong\" to a certain data type, which is why they are called *in relation* to the data type using a <code>.</code> to specify the relationship. Methods are frequently used to fulfill some sort of operation specific to the data type: it's more intuitive to show rather than tell how this works for lists."
   ]
  },
  {
   "cell_type": "code",
   "execution_count": null,
   "metadata": {},
   "outputs": [],
   "source": [
    "zs = [15, 3, 5, 2, -5, 3]\n",
    "\n",
    "zs.sort() # sorts the list\n",
    "print(zs)\n",
    "\n",
    "print(zs.count(3)) # counts the instances of the number 3 in the list\n",
    "\n",
    "zs.reverse() # reverses the order of the list\n",
    "print(zs)"
   ]
  },
  {
   "cell_type": "markdown",
   "metadata": {},
   "source": [
    "> **Answer Question 5 on the worksheet.**"
   ]
  },
  {
   "cell_type": "markdown",
   "metadata": {},
   "source": [
    "## Retrieving values from a list\n",
    "We're almost to the finish line of this data type bootcamp!\n",
    "\n",
    "Now that we've learned about lists, we can understand that there might be some good value in being able to access a certain value in a list. We touched upon this with the concept of a list being *ordered*, but we're going to go a little further now. \n",
    "\n",
    "Individual elements of a list have a sequential order: they also have an **index** that denotes that order. For example: \n",
    "\n",
    "```\n",
    "List:    [10, 5, 7, 8]\n",
    "Index:     0  1  2  3\n",
    "```\n",
    "\n",
    "Now, the most striking thing about this index is that the \"first\" element of the list is denoted with a *zero* rather than a one. For Python beginners, herein lies the most obnoxious annoyance that you will encounter when trying to parse lists and other ordered data.\n",
    "\n",
    "**Zero-based indexing** is the principle that the \"first\" element of any ordered data structure should be denoted by the index of 0. Python adheres to zero-based indexing, but this is a principle that differs across coding languages: this may become an annoyance to you as we bounce between non-Python languages and other programs in this class. **Off by one errors** are some of the most common errors for both beginner and veteran programmers, so don't be discouraged if zero-based indexing doesn't feel intuitive to you right away!"
   ]
  },
  {
   "cell_type": "code",
   "execution_count": null,
   "metadata": {
    "code_folding": []
   },
   "outputs": [],
   "source": [
    "zs = [15, 3, 5, 2, -5, 3] # showing zs again here for your convenience\n",
    "\n",
    "print(zs[1]) # note that this doesn't give us our first value\n",
    "print(zs[0]) # this does!"
   ]
  },
  {
   "cell_type": "markdown",
   "metadata": {},
   "source": [
    "We can also use *negative* indexing, which is mostly convenient for getting the last element of a list.\n",
    "\n",
    "```\n",
    "List:          [10, 5, 7, 8]\n",
    "Index:           0  1  2  3\n",
    "Negative index: -4 -3 -2 -1\n",
    "```"
   ]
  },
  {
   "cell_type": "code",
   "execution_count": null,
   "metadata": {},
   "outputs": [],
   "source": [
    "print(zs)\n",
    "print(\"zs has \", len(zs), \" elements\") # len() is a built-in function that gets the length of a list\n",
    "\n",
    "print(zs[len(zs) - 1]) # this gives us our last element, but it's messy to read and write\n",
    "print(zs[-1]) # wasn't that easier?"
   ]
  },
  {
   "cell_type": "markdown",
   "metadata": {},
   "source": [
    "Last but not least, we can combine our knowledge of list indexing to retrieve **slices** of a list as we please with the <code>:</code> operator.\n",
    "\n",
    "The <code>:</code> operator has several major assumptions: take a look at the output of the cell below."
   ]
  },
  {
   "cell_type": "code",
   "execution_count": null,
   "metadata": {
    "code_folding": []
   },
   "outputs": [],
   "source": [
    "print(zs) # the whole list\n",
    "print(zs[2:4]) # Get a slice from index 2 to 4 - exclusive! ie, includes elements 2 and 3, not 4"
   ]
  },
  {
   "cell_type": "markdown",
   "metadata": {},
   "source": [
    "> **Answer Question 6 on the worksheet.**"
   ]
  },
  {
   "cell_type": "markdown",
   "metadata": {},
   "source": [
    "First of all, we can see that even though we sliced from index 2 to 4, we only see the 2nd and 3rd indexed values in the slice. This is because slicing of lists is **non-inclusive** of the last index: if you've taken calculus before, this is equivalent in mathematical range notation to saying that we want to slice the list from <code>[2,4)</code>.\n",
    "\n",
    "Next, the <code>:</code> operator has two default assumptions about the starting and ending index:\n",
    "* Unless otherwise specified, slicing will begin from the first element.\n",
    "* Unless otherwise specific, slicing will end at the maximum length of the list (**inclusive** of the last element)."
   ]
  },
  {
   "cell_type": "code",
   "execution_count": null,
   "metadata": {},
   "outputs": [],
   "source": [
    "print(zs[:4])  # Start from the default start index and slice to index 4 (non-inclusive!)\n",
    "print(zs[0:4]) # an equivalent statement"
   ]
  },
  {
   "cell_type": "code",
   "execution_count": null,
   "metadata": {},
   "outputs": [],
   "source": [
    "print(zs[2:])  # Start from the 2nd index and slice to the default end index\n",
    "print(zs[2:6]) # an equivalent statement"
   ]
  },
  {
   "cell_type": "markdown",
   "metadata": {},
   "source": [
    "There are other slicing operations that we can perform with lists (like stepwise slicing), but we will leave those alone for now in the interest of finishing up the last topics."
   ]
  },
  {
   "cell_type": "markdown",
   "metadata": {},
   "source": [
    "## String indexing\n",
    "\n",
    "Thankfully, string indexing is just about exactly the same as list indexing."
   ]
  },
  {
   "cell_type": "code",
   "execution_count": null,
   "metadata": {},
   "outputs": [],
   "source": [
    "tRNA_alanine = \"GGGGGUGUAGCUCAGUGGUAGAGCGCGUGCUUAGCAUGUACGAGGUCCCGGGUUCAAUCCCCGGCACCUCCA\"\n",
    "\n",
    "print(len(tRNA_alanine))\n",
    "print(tRNA_alanine[0:4]) # slice the first 3 characters of the string\n",
    "print(tRNA_alanine[-10:-1]) # backwards slicing works too"
   ]
  },
  {
   "cell_type": "markdown",
   "metadata": {},
   "source": [
    "# Congratulations!\n",
    "\n",
    "You've successfully run a crash course on basic data types and structures in Python. We're going to close out lab with a *very* brief primer on using what we call the **bash** shell on JupyterHub. \n",
    "> **Return to the PDF guide (the section \"Bash basics\") for further instructions on the rest of the worksheet.**"
   ]
  }
 ],
 "metadata": {
  "kernelspec": {
   "display_name": "Python 3 (ipykernel)",
   "language": "python",
   "name": "python3"
  },
  "language_info": {
   "codemirror_mode": {
    "name": "ipython",
    "version": 3
   },
   "file_extension": ".py",
   "mimetype": "text/x-python",
   "name": "python",
   "nbconvert_exporter": "python",
   "pygments_lexer": "ipython3",
   "version": "3.9.6"
  }
 },
 "nbformat": 4,
 "nbformat_minor": 4
}
